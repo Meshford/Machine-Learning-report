{
 "cells": [
  {
   "cell_type": "markdown",
   "metadata": {},
   "source": [
    " \n",
    "# Отчет по дисциплине «Machine learning»."
   ]
  },
  {
   "cell_type": "markdown",
   "metadata": {},
   "source": [
    "### Задача классификации."
   ]
  },
  {
   "cell_type": "markdown",
   "metadata": {},
   "source": [
    "**Тема исследования: «German Credit DataSet»** \n"
   ]
  },
  {
   "cell_type": "markdown",
   "metadata": {},
   "source": [
    "**Введение:** "
   ]
  },
  {
   "cell_type": "markdown",
   "metadata": {},
   "source": [
    "Главной целью исследования является разбор задачи «Классификации». Ее суть заключается в том, чтобы верно распределять данные по нужным классам. Для этого необходимо выбрать результирующий признак, который и будем разделять на классы. Но начнём издалека. "
   ]
  },
  {
   "cell_type": "markdown",
   "metadata": {},
   "source": [
    "Что такое машинное обучение?\n",
    "Машинное обучение представляет собой науку (и искусство) программирования\n",
    "компьютеров для того, чтобы они могли обучаться на основе данных."
   ]
  },
  {
   "cell_type": "markdown",
   "metadata": {},
   "source": [
    "Приведем пример, рассмотрим фильтр спама.Фильтр спама-это программа МО, которая способна\n",
    "научиться отмечать спам на заданных примерах спам-сообщений (возможно,\n",
    "маркированных пользователями) и примерах нормальных почтовых сообщений\n",
    "(не спама). Это очень яркий пример задачи классификации (разделение данных на нормальные письма и спам)."
   ]
  },
  {
   "cell_type": "markdown",
   "metadata": {},
   "source": [
    "Примеры, которые система использует для обучения,\n",
    "называются обучающим набором ( training set), а данные, на которых машина тренируется-тестовым набором(test set)."
   ]
  },
  {
   "cell_type": "markdown",
   "metadata": {},
   "source": [
    "Смысл работы состоит в том, что нам предоставлена информация о банковской истории человека с многими дополнительными данными (имеет ли он дом, работает ли он или безработный, имеет ли кредит в другом банке и т.д). Необходимо предсказать, основываясь на данных, иностранный ли это гражданин или нет. "
   ]
  },
  {
   "cell_type": "markdown",
   "metadata": {},
   "source": [
    "**Ход работы:**"
   ]
  },
  {
   "cell_type": "markdown",
   "metadata": {},
   "source": [
    "Итак, начнем исследование.\n",
    "Для этого необходимо загрузить набор данных из источника в блокнот для дальнейшей работы.\n",
    "Это можно сделать, использовав следующий код:\n"
   ]
  },
  {
   "cell_type": "code",
   "execution_count": 1121,
   "metadata": {},
   "outputs": [],
   "source": [
    "#Загрузка необходимых библиотек\n",
    "from __future__ import division, print_function, unicode_literals\n",
    "\n",
    "import sys\n",
    "import matplotlib as mpl\n",
    "from matplotlib import pyplot as plt\n",
    "import scipy as sp\n",
    "import pandas as pd\n",
    "import numpy as np\n",
    "import IPython as IPy\n",
    "import sklearn as skl\n",
    "import mglearn as mgl\n",
    "from sklearn.model_selection import train_test_split\n",
    "import urllib\n",
    "import joblib\n",
    "import warnings\n",
    "import os #модуль для работы с ОС\n",
    "import tarfile #позволяет работать со сжатыми файлами .tar\n",
    "from six.moves import urllib #для помощи в работе"
   ]
  },
  {
   "cell_type": "code",
   "execution_count": 1122,
   "metadata": {},
   "outputs": [],
   "source": [
    "#загрузка данных из первоисточника\n",
    "DATASET_URL = \"https://archive.ics.uci.edu/ml/machine-learning-databases/statlog/german/german.data\"\n",
    "DATA_PATH = os.path.join(\"datasets\",\"german\") #присоединение пути\n",
    "def load_data (data_url=DATASET_URL,data_path=DATA_PATH): #функция загрузки данных\n",
    "    os.makedirs(data_path,exist_ok=True)\n",
    "    data_path = os.path.join(data_path,\"german.data\")  #указываем название файла\n",
    "    urllib.request.urlretrieve(data_url,data_path)\n",
    "    return pd.read_csv(data_path,header=None,na_values=\"?\")  #возвращаем объект pandas Dataframe\n",
    "dataset=load_data() #вызываем функцию и присваиваем новой переменной, с которой и будем работать далее"
   ]
  },
  {
   "cell_type": "markdown",
   "metadata": {},
   "source": [
    "Есть смысл посмотреть на данные, которые были загружены."
   ]
  },
  {
   "cell_type": "code",
   "execution_count": 1123,
   "metadata": {},
   "outputs": [
    {
     "data": {
      "text/html": [
       "<div>\n",
       "<style scoped>\n",
       "    .dataframe tbody tr th:only-of-type {\n",
       "        vertical-align: middle;\n",
       "    }\n",
       "\n",
       "    .dataframe tbody tr th {\n",
       "        vertical-align: top;\n",
       "    }\n",
       "\n",
       "    .dataframe thead th {\n",
       "        text-align: right;\n",
       "    }\n",
       "</style>\n",
       "<table border=\"1\" class=\"dataframe\">\n",
       "  <thead>\n",
       "    <tr style=\"text-align: right;\">\n",
       "      <th></th>\n",
       "      <th>0</th>\n",
       "    </tr>\n",
       "  </thead>\n",
       "  <tbody>\n",
       "    <tr>\n",
       "      <th>0</th>\n",
       "      <td>A11 6 A34 A43 1169 A65 A75 4 A93 A101 4 A121 6...</td>\n",
       "    </tr>\n",
       "    <tr>\n",
       "      <th>1</th>\n",
       "      <td>A12 48 A32 A43 5951 A61 A73 2 A92 A101 2 A121 ...</td>\n",
       "    </tr>\n",
       "    <tr>\n",
       "      <th>2</th>\n",
       "      <td>A14 12 A34 A46 2096 A61 A74 2 A93 A101 3 A121 ...</td>\n",
       "    </tr>\n",
       "    <tr>\n",
       "      <th>3</th>\n",
       "      <td>A11 42 A32 A42 7882 A61 A74 2 A93 A103 4 A122 ...</td>\n",
       "    </tr>\n",
       "    <tr>\n",
       "      <th>4</th>\n",
       "      <td>A11 24 A33 A40 4870 A61 A73 3 A93 A101 4 A124 ...</td>\n",
       "    </tr>\n",
       "    <tr>\n",
       "      <th>...</th>\n",
       "      <td>...</td>\n",
       "    </tr>\n",
       "    <tr>\n",
       "      <th>995</th>\n",
       "      <td>A14 12 A32 A42 1736 A61 A74 3 A92 A101 4 A121 ...</td>\n",
       "    </tr>\n",
       "    <tr>\n",
       "      <th>996</th>\n",
       "      <td>A11 30 A32 A41 3857 A61 A73 4 A91 A101 4 A122 ...</td>\n",
       "    </tr>\n",
       "    <tr>\n",
       "      <th>997</th>\n",
       "      <td>A14 12 A32 A43 804 A61 A75 4 A93 A101 4 A123 3...</td>\n",
       "    </tr>\n",
       "    <tr>\n",
       "      <th>998</th>\n",
       "      <td>A11 45 A32 A43 1845 A61 A73 4 A93 A101 4 A124 ...</td>\n",
       "    </tr>\n",
       "    <tr>\n",
       "      <th>999</th>\n",
       "      <td>A12 45 A34 A41 4576 A62 A71 3 A93 A101 4 A123 ...</td>\n",
       "    </tr>\n",
       "  </tbody>\n",
       "</table>\n",
       "<p>1000 rows × 1 columns</p>\n",
       "</div>"
      ],
      "text/plain": [
       "                                                     0\n",
       "0    A11 6 A34 A43 1169 A65 A75 4 A93 A101 4 A121 6...\n",
       "1    A12 48 A32 A43 5951 A61 A73 2 A92 A101 2 A121 ...\n",
       "2    A14 12 A34 A46 2096 A61 A74 2 A93 A101 3 A121 ...\n",
       "3    A11 42 A32 A42 7882 A61 A74 2 A93 A103 4 A122 ...\n",
       "4    A11 24 A33 A40 4870 A61 A73 3 A93 A101 4 A124 ...\n",
       "..                                                 ...\n",
       "995  A14 12 A32 A42 1736 A61 A74 3 A92 A101 4 A121 ...\n",
       "996  A11 30 A32 A41 3857 A61 A73 4 A91 A101 4 A122 ...\n",
       "997  A14 12 A32 A43 804 A61 A75 4 A93 A101 4 A123 3...\n",
       "998  A11 45 A32 A43 1845 A61 A73 4 A93 A101 4 A124 ...\n",
       "999  A12 45 A34 A41 4576 A62 A71 3 A93 A101 4 A123 ...\n",
       "\n",
       "[1000 rows x 1 columns]"
      ]
     },
     "execution_count": 1123,
     "metadata": {},
     "output_type": "execute_result"
    }
   ],
   "source": [
    "dataset"
   ]
  },
  {
   "cell_type": "markdown",
   "metadata": {},
   "source": [
    "Нетрудно заметить, что данные находятся не в том виде, в котором нам хотелось бы. Здесь в явном виде лишь один столбец,а с такими данными работать крайне неудобно, поэтому следует разделить данные по столбцам.\n"
   ]
  },
  {
   "cell_type": "code",
   "execution_count": 1124,
   "metadata": {},
   "outputs": [],
   "source": [
    "DATASET_URL = \"https://archive.ics.uci.edu/ml/machine-learning-databases/statlog/german/german.data\"\n",
    "DATA_PATH = os.path.join(\"datasets\",\"german\") #присоединение пути\n",
    "def load_data (data_url=DATASET_URL,data_path=DATA_PATH): #функция загрузки данных\n",
    "    os.makedirs(data_path,exist_ok=True)\n",
    "    data_path = os.path.join(data_path,\"german.data\")  #указываем название файла\n",
    "    urllib.request.urlretrieve(data_url,data_path)\n",
    "    return pd.read_csv(data_path,header=None,na_values=\"?\", sep=\" \")  #возвращаем объект pandas Dataframe и ставим разделитель\n",
    "dataset=load_data() #вызываем функцию и присваиваем новой переменной, с которой и будем работать далее"
   ]
  },
  {
   "cell_type": "code",
   "execution_count": 1125,
   "metadata": {},
   "outputs": [
    {
     "data": {
      "text/html": [
       "<div>\n",
       "<style scoped>\n",
       "    .dataframe tbody tr th:only-of-type {\n",
       "        vertical-align: middle;\n",
       "    }\n",
       "\n",
       "    .dataframe tbody tr th {\n",
       "        vertical-align: top;\n",
       "    }\n",
       "\n",
       "    .dataframe thead th {\n",
       "        text-align: right;\n",
       "    }\n",
       "</style>\n",
       "<table border=\"1\" class=\"dataframe\">\n",
       "  <thead>\n",
       "    <tr style=\"text-align: right;\">\n",
       "      <th></th>\n",
       "      <th>0</th>\n",
       "      <th>1</th>\n",
       "      <th>2</th>\n",
       "      <th>3</th>\n",
       "      <th>4</th>\n",
       "      <th>5</th>\n",
       "      <th>6</th>\n",
       "      <th>7</th>\n",
       "      <th>8</th>\n",
       "      <th>9</th>\n",
       "      <th>...</th>\n",
       "      <th>11</th>\n",
       "      <th>12</th>\n",
       "      <th>13</th>\n",
       "      <th>14</th>\n",
       "      <th>15</th>\n",
       "      <th>16</th>\n",
       "      <th>17</th>\n",
       "      <th>18</th>\n",
       "      <th>19</th>\n",
       "      <th>20</th>\n",
       "    </tr>\n",
       "  </thead>\n",
       "  <tbody>\n",
       "    <tr>\n",
       "      <th>0</th>\n",
       "      <td>A11</td>\n",
       "      <td>6</td>\n",
       "      <td>A34</td>\n",
       "      <td>A43</td>\n",
       "      <td>1169</td>\n",
       "      <td>A65</td>\n",
       "      <td>A75</td>\n",
       "      <td>4</td>\n",
       "      <td>A93</td>\n",
       "      <td>A101</td>\n",
       "      <td>...</td>\n",
       "      <td>A121</td>\n",
       "      <td>67</td>\n",
       "      <td>A143</td>\n",
       "      <td>A152</td>\n",
       "      <td>2</td>\n",
       "      <td>A173</td>\n",
       "      <td>1</td>\n",
       "      <td>A192</td>\n",
       "      <td>A201</td>\n",
       "      <td>1</td>\n",
       "    </tr>\n",
       "    <tr>\n",
       "      <th>1</th>\n",
       "      <td>A12</td>\n",
       "      <td>48</td>\n",
       "      <td>A32</td>\n",
       "      <td>A43</td>\n",
       "      <td>5951</td>\n",
       "      <td>A61</td>\n",
       "      <td>A73</td>\n",
       "      <td>2</td>\n",
       "      <td>A92</td>\n",
       "      <td>A101</td>\n",
       "      <td>...</td>\n",
       "      <td>A121</td>\n",
       "      <td>22</td>\n",
       "      <td>A143</td>\n",
       "      <td>A152</td>\n",
       "      <td>1</td>\n",
       "      <td>A173</td>\n",
       "      <td>1</td>\n",
       "      <td>A191</td>\n",
       "      <td>A201</td>\n",
       "      <td>2</td>\n",
       "    </tr>\n",
       "    <tr>\n",
       "      <th>2</th>\n",
       "      <td>A14</td>\n",
       "      <td>12</td>\n",
       "      <td>A34</td>\n",
       "      <td>A46</td>\n",
       "      <td>2096</td>\n",
       "      <td>A61</td>\n",
       "      <td>A74</td>\n",
       "      <td>2</td>\n",
       "      <td>A93</td>\n",
       "      <td>A101</td>\n",
       "      <td>...</td>\n",
       "      <td>A121</td>\n",
       "      <td>49</td>\n",
       "      <td>A143</td>\n",
       "      <td>A152</td>\n",
       "      <td>1</td>\n",
       "      <td>A172</td>\n",
       "      <td>2</td>\n",
       "      <td>A191</td>\n",
       "      <td>A201</td>\n",
       "      <td>1</td>\n",
       "    </tr>\n",
       "    <tr>\n",
       "      <th>3</th>\n",
       "      <td>A11</td>\n",
       "      <td>42</td>\n",
       "      <td>A32</td>\n",
       "      <td>A42</td>\n",
       "      <td>7882</td>\n",
       "      <td>A61</td>\n",
       "      <td>A74</td>\n",
       "      <td>2</td>\n",
       "      <td>A93</td>\n",
       "      <td>A103</td>\n",
       "      <td>...</td>\n",
       "      <td>A122</td>\n",
       "      <td>45</td>\n",
       "      <td>A143</td>\n",
       "      <td>A153</td>\n",
       "      <td>1</td>\n",
       "      <td>A173</td>\n",
       "      <td>2</td>\n",
       "      <td>A191</td>\n",
       "      <td>A201</td>\n",
       "      <td>1</td>\n",
       "    </tr>\n",
       "    <tr>\n",
       "      <th>4</th>\n",
       "      <td>A11</td>\n",
       "      <td>24</td>\n",
       "      <td>A33</td>\n",
       "      <td>A40</td>\n",
       "      <td>4870</td>\n",
       "      <td>A61</td>\n",
       "      <td>A73</td>\n",
       "      <td>3</td>\n",
       "      <td>A93</td>\n",
       "      <td>A101</td>\n",
       "      <td>...</td>\n",
       "      <td>A124</td>\n",
       "      <td>53</td>\n",
       "      <td>A143</td>\n",
       "      <td>A153</td>\n",
       "      <td>2</td>\n",
       "      <td>A173</td>\n",
       "      <td>2</td>\n",
       "      <td>A191</td>\n",
       "      <td>A201</td>\n",
       "      <td>2</td>\n",
       "    </tr>\n",
       "    <tr>\n",
       "      <th>...</th>\n",
       "      <td>...</td>\n",
       "      <td>...</td>\n",
       "      <td>...</td>\n",
       "      <td>...</td>\n",
       "      <td>...</td>\n",
       "      <td>...</td>\n",
       "      <td>...</td>\n",
       "      <td>...</td>\n",
       "      <td>...</td>\n",
       "      <td>...</td>\n",
       "      <td>...</td>\n",
       "      <td>...</td>\n",
       "      <td>...</td>\n",
       "      <td>...</td>\n",
       "      <td>...</td>\n",
       "      <td>...</td>\n",
       "      <td>...</td>\n",
       "      <td>...</td>\n",
       "      <td>...</td>\n",
       "      <td>...</td>\n",
       "      <td>...</td>\n",
       "    </tr>\n",
       "    <tr>\n",
       "      <th>995</th>\n",
       "      <td>A14</td>\n",
       "      <td>12</td>\n",
       "      <td>A32</td>\n",
       "      <td>A42</td>\n",
       "      <td>1736</td>\n",
       "      <td>A61</td>\n",
       "      <td>A74</td>\n",
       "      <td>3</td>\n",
       "      <td>A92</td>\n",
       "      <td>A101</td>\n",
       "      <td>...</td>\n",
       "      <td>A121</td>\n",
       "      <td>31</td>\n",
       "      <td>A143</td>\n",
       "      <td>A152</td>\n",
       "      <td>1</td>\n",
       "      <td>A172</td>\n",
       "      <td>1</td>\n",
       "      <td>A191</td>\n",
       "      <td>A201</td>\n",
       "      <td>1</td>\n",
       "    </tr>\n",
       "    <tr>\n",
       "      <th>996</th>\n",
       "      <td>A11</td>\n",
       "      <td>30</td>\n",
       "      <td>A32</td>\n",
       "      <td>A41</td>\n",
       "      <td>3857</td>\n",
       "      <td>A61</td>\n",
       "      <td>A73</td>\n",
       "      <td>4</td>\n",
       "      <td>A91</td>\n",
       "      <td>A101</td>\n",
       "      <td>...</td>\n",
       "      <td>A122</td>\n",
       "      <td>40</td>\n",
       "      <td>A143</td>\n",
       "      <td>A152</td>\n",
       "      <td>1</td>\n",
       "      <td>A174</td>\n",
       "      <td>1</td>\n",
       "      <td>A192</td>\n",
       "      <td>A201</td>\n",
       "      <td>1</td>\n",
       "    </tr>\n",
       "    <tr>\n",
       "      <th>997</th>\n",
       "      <td>A14</td>\n",
       "      <td>12</td>\n",
       "      <td>A32</td>\n",
       "      <td>A43</td>\n",
       "      <td>804</td>\n",
       "      <td>A61</td>\n",
       "      <td>A75</td>\n",
       "      <td>4</td>\n",
       "      <td>A93</td>\n",
       "      <td>A101</td>\n",
       "      <td>...</td>\n",
       "      <td>A123</td>\n",
       "      <td>38</td>\n",
       "      <td>A143</td>\n",
       "      <td>A152</td>\n",
       "      <td>1</td>\n",
       "      <td>A173</td>\n",
       "      <td>1</td>\n",
       "      <td>A191</td>\n",
       "      <td>A201</td>\n",
       "      <td>1</td>\n",
       "    </tr>\n",
       "    <tr>\n",
       "      <th>998</th>\n",
       "      <td>A11</td>\n",
       "      <td>45</td>\n",
       "      <td>A32</td>\n",
       "      <td>A43</td>\n",
       "      <td>1845</td>\n",
       "      <td>A61</td>\n",
       "      <td>A73</td>\n",
       "      <td>4</td>\n",
       "      <td>A93</td>\n",
       "      <td>A101</td>\n",
       "      <td>...</td>\n",
       "      <td>A124</td>\n",
       "      <td>23</td>\n",
       "      <td>A143</td>\n",
       "      <td>A153</td>\n",
       "      <td>1</td>\n",
       "      <td>A173</td>\n",
       "      <td>1</td>\n",
       "      <td>A192</td>\n",
       "      <td>A201</td>\n",
       "      <td>2</td>\n",
       "    </tr>\n",
       "    <tr>\n",
       "      <th>999</th>\n",
       "      <td>A12</td>\n",
       "      <td>45</td>\n",
       "      <td>A34</td>\n",
       "      <td>A41</td>\n",
       "      <td>4576</td>\n",
       "      <td>A62</td>\n",
       "      <td>A71</td>\n",
       "      <td>3</td>\n",
       "      <td>A93</td>\n",
       "      <td>A101</td>\n",
       "      <td>...</td>\n",
       "      <td>A123</td>\n",
       "      <td>27</td>\n",
       "      <td>A143</td>\n",
       "      <td>A152</td>\n",
       "      <td>1</td>\n",
       "      <td>A173</td>\n",
       "      <td>1</td>\n",
       "      <td>A191</td>\n",
       "      <td>A201</td>\n",
       "      <td>1</td>\n",
       "    </tr>\n",
       "  </tbody>\n",
       "</table>\n",
       "<p>1000 rows × 21 columns</p>\n",
       "</div>"
      ],
      "text/plain": [
       "      0   1    2    3     4    5    6   7    8     9   ...    11  12    13  \\\n",
       "0    A11   6  A34  A43  1169  A65  A75   4  A93  A101  ...  A121  67  A143   \n",
       "1    A12  48  A32  A43  5951  A61  A73   2  A92  A101  ...  A121  22  A143   \n",
       "2    A14  12  A34  A46  2096  A61  A74   2  A93  A101  ...  A121  49  A143   \n",
       "3    A11  42  A32  A42  7882  A61  A74   2  A93  A103  ...  A122  45  A143   \n",
       "4    A11  24  A33  A40  4870  A61  A73   3  A93  A101  ...  A124  53  A143   \n",
       "..   ...  ..  ...  ...   ...  ...  ...  ..  ...   ...  ...   ...  ..   ...   \n",
       "995  A14  12  A32  A42  1736  A61  A74   3  A92  A101  ...  A121  31  A143   \n",
       "996  A11  30  A32  A41  3857  A61  A73   4  A91  A101  ...  A122  40  A143   \n",
       "997  A14  12  A32  A43   804  A61  A75   4  A93  A101  ...  A123  38  A143   \n",
       "998  A11  45  A32  A43  1845  A61  A73   4  A93  A101  ...  A124  23  A143   \n",
       "999  A12  45  A34  A41  4576  A62  A71   3  A93  A101  ...  A123  27  A143   \n",
       "\n",
       "       14 15    16 17    18    19 20  \n",
       "0    A152  2  A173  1  A192  A201  1  \n",
       "1    A152  1  A173  1  A191  A201  2  \n",
       "2    A152  1  A172  2  A191  A201  1  \n",
       "3    A153  1  A173  2  A191  A201  1  \n",
       "4    A153  2  A173  2  A191  A201  2  \n",
       "..    ... ..   ... ..   ...   ... ..  \n",
       "995  A152  1  A172  1  A191  A201  1  \n",
       "996  A152  1  A174  1  A192  A201  1  \n",
       "997  A152  1  A173  1  A191  A201  1  \n",
       "998  A153  1  A173  1  A192  A201  2  \n",
       "999  A152  1  A173  1  A191  A201  1  \n",
       "\n",
       "[1000 rows x 21 columns]"
      ]
     },
     "execution_count": 1125,
     "metadata": {},
     "output_type": "execute_result"
    }
   ],
   "source": [
    "dataset"
   ]
  },
  {
   "cell_type": "markdown",
   "metadata": {},
   "source": [
    "Другое дело! Но было замечено, что данные содержат лишний столбец, который следует пока убрать из набора данных (он может быть полезен впоследствии):"
   ]
  },
  {
   "cell_type": "code",
   "execution_count": 1126,
   "metadata": {},
   "outputs": [
    {
     "data": {
      "text/html": [
       "<div>\n",
       "<style scoped>\n",
       "    .dataframe tbody tr th:only-of-type {\n",
       "        vertical-align: middle;\n",
       "    }\n",
       "\n",
       "    .dataframe tbody tr th {\n",
       "        vertical-align: top;\n",
       "    }\n",
       "\n",
       "    .dataframe thead th {\n",
       "        text-align: right;\n",
       "    }\n",
       "</style>\n",
       "<table border=\"1\" class=\"dataframe\">\n",
       "  <thead>\n",
       "    <tr style=\"text-align: right;\">\n",
       "      <th></th>\n",
       "      <th>0</th>\n",
       "      <th>1</th>\n",
       "      <th>2</th>\n",
       "      <th>3</th>\n",
       "      <th>4</th>\n",
       "      <th>5</th>\n",
       "      <th>6</th>\n",
       "      <th>7</th>\n",
       "      <th>8</th>\n",
       "      <th>9</th>\n",
       "      <th>10</th>\n",
       "      <th>11</th>\n",
       "      <th>12</th>\n",
       "      <th>13</th>\n",
       "      <th>14</th>\n",
       "      <th>15</th>\n",
       "      <th>16</th>\n",
       "      <th>17</th>\n",
       "      <th>18</th>\n",
       "      <th>19</th>\n",
       "    </tr>\n",
       "  </thead>\n",
       "  <tbody>\n",
       "    <tr>\n",
       "      <th>0</th>\n",
       "      <td>A11</td>\n",
       "      <td>6</td>\n",
       "      <td>A34</td>\n",
       "      <td>A43</td>\n",
       "      <td>1169</td>\n",
       "      <td>A65</td>\n",
       "      <td>A75</td>\n",
       "      <td>4</td>\n",
       "      <td>A93</td>\n",
       "      <td>A101</td>\n",
       "      <td>4</td>\n",
       "      <td>A121</td>\n",
       "      <td>67</td>\n",
       "      <td>A143</td>\n",
       "      <td>A152</td>\n",
       "      <td>2</td>\n",
       "      <td>A173</td>\n",
       "      <td>1</td>\n",
       "      <td>A192</td>\n",
       "      <td>A201</td>\n",
       "    </tr>\n",
       "    <tr>\n",
       "      <th>1</th>\n",
       "      <td>A12</td>\n",
       "      <td>48</td>\n",
       "      <td>A32</td>\n",
       "      <td>A43</td>\n",
       "      <td>5951</td>\n",
       "      <td>A61</td>\n",
       "      <td>A73</td>\n",
       "      <td>2</td>\n",
       "      <td>A92</td>\n",
       "      <td>A101</td>\n",
       "      <td>2</td>\n",
       "      <td>A121</td>\n",
       "      <td>22</td>\n",
       "      <td>A143</td>\n",
       "      <td>A152</td>\n",
       "      <td>1</td>\n",
       "      <td>A173</td>\n",
       "      <td>1</td>\n",
       "      <td>A191</td>\n",
       "      <td>A201</td>\n",
       "    </tr>\n",
       "    <tr>\n",
       "      <th>2</th>\n",
       "      <td>A14</td>\n",
       "      <td>12</td>\n",
       "      <td>A34</td>\n",
       "      <td>A46</td>\n",
       "      <td>2096</td>\n",
       "      <td>A61</td>\n",
       "      <td>A74</td>\n",
       "      <td>2</td>\n",
       "      <td>A93</td>\n",
       "      <td>A101</td>\n",
       "      <td>3</td>\n",
       "      <td>A121</td>\n",
       "      <td>49</td>\n",
       "      <td>A143</td>\n",
       "      <td>A152</td>\n",
       "      <td>1</td>\n",
       "      <td>A172</td>\n",
       "      <td>2</td>\n",
       "      <td>A191</td>\n",
       "      <td>A201</td>\n",
       "    </tr>\n",
       "    <tr>\n",
       "      <th>3</th>\n",
       "      <td>A11</td>\n",
       "      <td>42</td>\n",
       "      <td>A32</td>\n",
       "      <td>A42</td>\n",
       "      <td>7882</td>\n",
       "      <td>A61</td>\n",
       "      <td>A74</td>\n",
       "      <td>2</td>\n",
       "      <td>A93</td>\n",
       "      <td>A103</td>\n",
       "      <td>4</td>\n",
       "      <td>A122</td>\n",
       "      <td>45</td>\n",
       "      <td>A143</td>\n",
       "      <td>A153</td>\n",
       "      <td>1</td>\n",
       "      <td>A173</td>\n",
       "      <td>2</td>\n",
       "      <td>A191</td>\n",
       "      <td>A201</td>\n",
       "    </tr>\n",
       "    <tr>\n",
       "      <th>4</th>\n",
       "      <td>A11</td>\n",
       "      <td>24</td>\n",
       "      <td>A33</td>\n",
       "      <td>A40</td>\n",
       "      <td>4870</td>\n",
       "      <td>A61</td>\n",
       "      <td>A73</td>\n",
       "      <td>3</td>\n",
       "      <td>A93</td>\n",
       "      <td>A101</td>\n",
       "      <td>4</td>\n",
       "      <td>A124</td>\n",
       "      <td>53</td>\n",
       "      <td>A143</td>\n",
       "      <td>A153</td>\n",
       "      <td>2</td>\n",
       "      <td>A173</td>\n",
       "      <td>2</td>\n",
       "      <td>A191</td>\n",
       "      <td>A201</td>\n",
       "    </tr>\n",
       "    <tr>\n",
       "      <th>...</th>\n",
       "      <td>...</td>\n",
       "      <td>...</td>\n",
       "      <td>...</td>\n",
       "      <td>...</td>\n",
       "      <td>...</td>\n",
       "      <td>...</td>\n",
       "      <td>...</td>\n",
       "      <td>...</td>\n",
       "      <td>...</td>\n",
       "      <td>...</td>\n",
       "      <td>...</td>\n",
       "      <td>...</td>\n",
       "      <td>...</td>\n",
       "      <td>...</td>\n",
       "      <td>...</td>\n",
       "      <td>...</td>\n",
       "      <td>...</td>\n",
       "      <td>...</td>\n",
       "      <td>...</td>\n",
       "      <td>...</td>\n",
       "    </tr>\n",
       "    <tr>\n",
       "      <th>995</th>\n",
       "      <td>A14</td>\n",
       "      <td>12</td>\n",
       "      <td>A32</td>\n",
       "      <td>A42</td>\n",
       "      <td>1736</td>\n",
       "      <td>A61</td>\n",
       "      <td>A74</td>\n",
       "      <td>3</td>\n",
       "      <td>A92</td>\n",
       "      <td>A101</td>\n",
       "      <td>4</td>\n",
       "      <td>A121</td>\n",
       "      <td>31</td>\n",
       "      <td>A143</td>\n",
       "      <td>A152</td>\n",
       "      <td>1</td>\n",
       "      <td>A172</td>\n",
       "      <td>1</td>\n",
       "      <td>A191</td>\n",
       "      <td>A201</td>\n",
       "    </tr>\n",
       "    <tr>\n",
       "      <th>996</th>\n",
       "      <td>A11</td>\n",
       "      <td>30</td>\n",
       "      <td>A32</td>\n",
       "      <td>A41</td>\n",
       "      <td>3857</td>\n",
       "      <td>A61</td>\n",
       "      <td>A73</td>\n",
       "      <td>4</td>\n",
       "      <td>A91</td>\n",
       "      <td>A101</td>\n",
       "      <td>4</td>\n",
       "      <td>A122</td>\n",
       "      <td>40</td>\n",
       "      <td>A143</td>\n",
       "      <td>A152</td>\n",
       "      <td>1</td>\n",
       "      <td>A174</td>\n",
       "      <td>1</td>\n",
       "      <td>A192</td>\n",
       "      <td>A201</td>\n",
       "    </tr>\n",
       "    <tr>\n",
       "      <th>997</th>\n",
       "      <td>A14</td>\n",
       "      <td>12</td>\n",
       "      <td>A32</td>\n",
       "      <td>A43</td>\n",
       "      <td>804</td>\n",
       "      <td>A61</td>\n",
       "      <td>A75</td>\n",
       "      <td>4</td>\n",
       "      <td>A93</td>\n",
       "      <td>A101</td>\n",
       "      <td>4</td>\n",
       "      <td>A123</td>\n",
       "      <td>38</td>\n",
       "      <td>A143</td>\n",
       "      <td>A152</td>\n",
       "      <td>1</td>\n",
       "      <td>A173</td>\n",
       "      <td>1</td>\n",
       "      <td>A191</td>\n",
       "      <td>A201</td>\n",
       "    </tr>\n",
       "    <tr>\n",
       "      <th>998</th>\n",
       "      <td>A11</td>\n",
       "      <td>45</td>\n",
       "      <td>A32</td>\n",
       "      <td>A43</td>\n",
       "      <td>1845</td>\n",
       "      <td>A61</td>\n",
       "      <td>A73</td>\n",
       "      <td>4</td>\n",
       "      <td>A93</td>\n",
       "      <td>A101</td>\n",
       "      <td>4</td>\n",
       "      <td>A124</td>\n",
       "      <td>23</td>\n",
       "      <td>A143</td>\n",
       "      <td>A153</td>\n",
       "      <td>1</td>\n",
       "      <td>A173</td>\n",
       "      <td>1</td>\n",
       "      <td>A192</td>\n",
       "      <td>A201</td>\n",
       "    </tr>\n",
       "    <tr>\n",
       "      <th>999</th>\n",
       "      <td>A12</td>\n",
       "      <td>45</td>\n",
       "      <td>A34</td>\n",
       "      <td>A41</td>\n",
       "      <td>4576</td>\n",
       "      <td>A62</td>\n",
       "      <td>A71</td>\n",
       "      <td>3</td>\n",
       "      <td>A93</td>\n",
       "      <td>A101</td>\n",
       "      <td>4</td>\n",
       "      <td>A123</td>\n",
       "      <td>27</td>\n",
       "      <td>A143</td>\n",
       "      <td>A152</td>\n",
       "      <td>1</td>\n",
       "      <td>A173</td>\n",
       "      <td>1</td>\n",
       "      <td>A191</td>\n",
       "      <td>A201</td>\n",
       "    </tr>\n",
       "  </tbody>\n",
       "</table>\n",
       "<p>1000 rows × 20 columns</p>\n",
       "</div>"
      ],
      "text/plain": [
       "      0   1    2    3     4    5    6   7    8     9   10    11  12    13  \\\n",
       "0    A11   6  A34  A43  1169  A65  A75   4  A93  A101   4  A121  67  A143   \n",
       "1    A12  48  A32  A43  5951  A61  A73   2  A92  A101   2  A121  22  A143   \n",
       "2    A14  12  A34  A46  2096  A61  A74   2  A93  A101   3  A121  49  A143   \n",
       "3    A11  42  A32  A42  7882  A61  A74   2  A93  A103   4  A122  45  A143   \n",
       "4    A11  24  A33  A40  4870  A61  A73   3  A93  A101   4  A124  53  A143   \n",
       "..   ...  ..  ...  ...   ...  ...  ...  ..  ...   ...  ..   ...  ..   ...   \n",
       "995  A14  12  A32  A42  1736  A61  A74   3  A92  A101   4  A121  31  A143   \n",
       "996  A11  30  A32  A41  3857  A61  A73   4  A91  A101   4  A122  40  A143   \n",
       "997  A14  12  A32  A43   804  A61  A75   4  A93  A101   4  A123  38  A143   \n",
       "998  A11  45  A32  A43  1845  A61  A73   4  A93  A101   4  A124  23  A143   \n",
       "999  A12  45  A34  A41  4576  A62  A71   3  A93  A101   4  A123  27  A143   \n",
       "\n",
       "       14  15    16  17    18    19  \n",
       "0    A152   2  A173   1  A192  A201  \n",
       "1    A152   1  A173   1  A191  A201  \n",
       "2    A152   1  A172   2  A191  A201  \n",
       "3    A153   1  A173   2  A191  A201  \n",
       "4    A153   2  A173   2  A191  A201  \n",
       "..    ...  ..   ...  ..   ...   ...  \n",
       "995  A152   1  A172   1  A191  A201  \n",
       "996  A152   1  A174   1  A192  A201  \n",
       "997  A152   1  A173   1  A191  A201  \n",
       "998  A153   1  A173   1  A192  A201  \n",
       "999  A152   1  A173   1  A191  A201  \n",
       "\n",
       "[1000 rows x 20 columns]"
      ]
     },
     "execution_count": 1126,
     "metadata": {},
     "output_type": "execute_result"
    }
   ],
   "source": [
    "dataset= dataset.drop(20, axis=1) #убрали столбец \n",
    "dataset"
   ]
  },
  {
   "cell_type": "markdown",
   "metadata": {},
   "source": [
    "    Стоит отметить, что столбец, который мы должны предсказать- [19]: \n",
    "    А201-да,иностранный гражданин\n",
    "    А202-нет, не иностранец."
   ]
  },
  {
   "cell_type": "markdown",
   "metadata": {},
   "source": [
    "Данные загружены! Далее необходимо подготовить данные для работы с алгоритмами МО. Есть необходимость посмотреть информацию о \n",
    "датасете, чтобы понять есть ли там пропущенные данные или данные, которые необходимо скорректировать для нормальной работы алгоритмов обучения:"
   ]
  },
  {
   "cell_type": "code",
   "execution_count": 1127,
   "metadata": {},
   "outputs": [
    {
     "name": "stdout",
     "output_type": "stream",
     "text": [
      "<class 'pandas.core.frame.DataFrame'>\n",
      "RangeIndex: 1000 entries, 0 to 999\n",
      "Data columns (total 20 columns):\n",
      " #   Column  Non-Null Count  Dtype \n",
      "---  ------  --------------  ----- \n",
      " 0   0       1000 non-null   object\n",
      " 1   1       1000 non-null   int64 \n",
      " 2   2       1000 non-null   object\n",
      " 3   3       1000 non-null   object\n",
      " 4   4       1000 non-null   int64 \n",
      " 5   5       1000 non-null   object\n",
      " 6   6       1000 non-null   object\n",
      " 7   7       1000 non-null   int64 \n",
      " 8   8       1000 non-null   object\n",
      " 9   9       1000 non-null   object\n",
      " 10  10      1000 non-null   int64 \n",
      " 11  11      1000 non-null   object\n",
      " 12  12      1000 non-null   int64 \n",
      " 13  13      1000 non-null   object\n",
      " 14  14      1000 non-null   object\n",
      " 15  15      1000 non-null   int64 \n",
      " 16  16      1000 non-null   object\n",
      " 17  17      1000 non-null   int64 \n",
      " 18  18      1000 non-null   object\n",
      " 19  19      1000 non-null   object\n",
      "dtypes: int64(7), object(13)\n",
      "memory usage: 156.4+ KB\n"
     ]
    }
   ],
   "source": [
    "#Применим метод .info(), который отображает краткую сводку по всем аттрибутам набора данных\n",
    "dataset.info()"
   ]
  },
  {
   "cell_type": "markdown",
   "metadata": {},
   "source": [
    "    Видим, что в каждом из столбцов по 1000 значений, то есть пропущенных значений нет. Стоит отметить, что если бы таковые были следовало бы прибегнуть к одному из трех способов устранения этой проблемы:\n",
    "    • избавиться от соответствующих округов;\n",
    "    • избавиться от всего атрибута;\n",
    "    • установить недостающие значения в некоторую величину (ноль, среднее,\n",
    "    медиана и т.д.).\n",
    "    Все варианты легко реализуются с использованием методов dropna(),\n",
    "    drop() и fillna() объекта DataFrame."
   ]
  },
  {
   "cell_type": "markdown",
   "metadata": {},
   "source": [
    "Есть смысл проверить есть ли в данных значения, которые равны inf, чтобы также позаботиться об их обработке:"
   ]
  },
  {
   "cell_type": "code",
   "execution_count": 1128,
   "metadata": {},
   "outputs": [],
   "source": [
    "for i in range (0, 20):\n",
    "    for j in range (0, 999):\n",
    "        if dataset[i][j] == np.nan:\n",
    "            print(i)\n",
    "            continue"
   ]
  },
  {
   "cell_type": "markdown",
   "metadata": {},
   "source": [
    "Видим, что таковых значений нет."
   ]
  },
  {
   "cell_type": "markdown",
   "metadata": {},
   "source": [
    "Теперь отдельно рассмотрим числовые аттрибуты. "
   ]
  },
  {
   "cell_type": "code",
   "execution_count": 1129,
   "metadata": {},
   "outputs": [
    {
     "data": {
      "text/html": [
       "<div>\n",
       "<style scoped>\n",
       "    .dataframe tbody tr th:only-of-type {\n",
       "        vertical-align: middle;\n",
       "    }\n",
       "\n",
       "    .dataframe tbody tr th {\n",
       "        vertical-align: top;\n",
       "    }\n",
       "\n",
       "    .dataframe thead th {\n",
       "        text-align: right;\n",
       "    }\n",
       "</style>\n",
       "<table border=\"1\" class=\"dataframe\">\n",
       "  <thead>\n",
       "    <tr style=\"text-align: right;\">\n",
       "      <th></th>\n",
       "      <th>1</th>\n",
       "      <th>4</th>\n",
       "      <th>7</th>\n",
       "      <th>10</th>\n",
       "      <th>12</th>\n",
       "      <th>15</th>\n",
       "      <th>17</th>\n",
       "    </tr>\n",
       "  </thead>\n",
       "  <tbody>\n",
       "    <tr>\n",
       "      <th>count</th>\n",
       "      <td>1000.000000</td>\n",
       "      <td>1000.000000</td>\n",
       "      <td>1000.000000</td>\n",
       "      <td>1000.000000</td>\n",
       "      <td>1000.000000</td>\n",
       "      <td>1000.000000</td>\n",
       "      <td>1000.000000</td>\n",
       "    </tr>\n",
       "    <tr>\n",
       "      <th>mean</th>\n",
       "      <td>20.903000</td>\n",
       "      <td>3271.258000</td>\n",
       "      <td>2.973000</td>\n",
       "      <td>2.845000</td>\n",
       "      <td>35.546000</td>\n",
       "      <td>1.407000</td>\n",
       "      <td>1.155000</td>\n",
       "    </tr>\n",
       "    <tr>\n",
       "      <th>std</th>\n",
       "      <td>12.058814</td>\n",
       "      <td>2822.736876</td>\n",
       "      <td>1.118715</td>\n",
       "      <td>1.103718</td>\n",
       "      <td>11.375469</td>\n",
       "      <td>0.577654</td>\n",
       "      <td>0.362086</td>\n",
       "    </tr>\n",
       "    <tr>\n",
       "      <th>min</th>\n",
       "      <td>4.000000</td>\n",
       "      <td>250.000000</td>\n",
       "      <td>1.000000</td>\n",
       "      <td>1.000000</td>\n",
       "      <td>19.000000</td>\n",
       "      <td>1.000000</td>\n",
       "      <td>1.000000</td>\n",
       "    </tr>\n",
       "    <tr>\n",
       "      <th>25%</th>\n",
       "      <td>12.000000</td>\n",
       "      <td>1365.500000</td>\n",
       "      <td>2.000000</td>\n",
       "      <td>2.000000</td>\n",
       "      <td>27.000000</td>\n",
       "      <td>1.000000</td>\n",
       "      <td>1.000000</td>\n",
       "    </tr>\n",
       "    <tr>\n",
       "      <th>50%</th>\n",
       "      <td>18.000000</td>\n",
       "      <td>2319.500000</td>\n",
       "      <td>3.000000</td>\n",
       "      <td>3.000000</td>\n",
       "      <td>33.000000</td>\n",
       "      <td>1.000000</td>\n",
       "      <td>1.000000</td>\n",
       "    </tr>\n",
       "    <tr>\n",
       "      <th>75%</th>\n",
       "      <td>24.000000</td>\n",
       "      <td>3972.250000</td>\n",
       "      <td>4.000000</td>\n",
       "      <td>4.000000</td>\n",
       "      <td>42.000000</td>\n",
       "      <td>2.000000</td>\n",
       "      <td>1.000000</td>\n",
       "    </tr>\n",
       "    <tr>\n",
       "      <th>max</th>\n",
       "      <td>72.000000</td>\n",
       "      <td>18424.000000</td>\n",
       "      <td>4.000000</td>\n",
       "      <td>4.000000</td>\n",
       "      <td>75.000000</td>\n",
       "      <td>4.000000</td>\n",
       "      <td>2.000000</td>\n",
       "    </tr>\n",
       "  </tbody>\n",
       "</table>\n",
       "</div>"
      ],
      "text/plain": [
       "                1             4            7            10           12  \\\n",
       "count  1000.000000   1000.000000  1000.000000  1000.000000  1000.000000   \n",
       "mean     20.903000   3271.258000     2.973000     2.845000    35.546000   \n",
       "std      12.058814   2822.736876     1.118715     1.103718    11.375469   \n",
       "min       4.000000    250.000000     1.000000     1.000000    19.000000   \n",
       "25%      12.000000   1365.500000     2.000000     2.000000    27.000000   \n",
       "50%      18.000000   2319.500000     3.000000     3.000000    33.000000   \n",
       "75%      24.000000   3972.250000     4.000000     4.000000    42.000000   \n",
       "max      72.000000  18424.000000     4.000000     4.000000    75.000000   \n",
       "\n",
       "                15           17  \n",
       "count  1000.000000  1000.000000  \n",
       "mean      1.407000     1.155000  \n",
       "std       0.577654     0.362086  \n",
       "min       1.000000     1.000000  \n",
       "25%       1.000000     1.000000  \n",
       "50%       1.000000     1.000000  \n",
       "75%       2.000000     1.000000  \n",
       "max       4.000000     2.000000  "
      ]
     },
     "execution_count": 1129,
     "metadata": {},
     "output_type": "execute_result"
    }
   ],
   "source": [
    "#применим метод describe()\n",
    "dataset.describe()"
   ]
  },
  {
   "cell_type": "markdown",
   "metadata": {},
   "source": [
    "    Данный метод позволяет более широкую информацию о данных:\n",
    "    min-минимальный элемент в столбце\n",
    "    min-максимальный элемент в столбце\n",
    "    mean-среднее значение\n",
    "    count-количество элементов\n",
    "    std-стандартное отклонение, которое измеряет разброс значений (квадратный корень из дисперсии (1)) \n",
    "    В строках 25%,50% и 75% приведены соответствующие процентили\n",
    "    (percentile): процентиль указывает значение, ниже которого падает заданный процент наблюдений в группе замеров."
   ]
  },
  {
   "cell_type": "markdown",
   "metadata": {},
   "source": [
    "(1)- Квадратный корень из дисперсии это усреднение квадратичного отклонения от среднего значения. Когда признак имеет колоколообразное\n",
    "нормальное распределение (также называемое распределением Гаусса), что\n",
    "очень распространено, то применяется правило \"68-95-99.7\": около 68% значений находятся\n",
    "внутри la среднего, 95% - внутри 2а и 99.7% - внутри За."
   ]
  },
  {
   "cell_type": "markdown",
   "metadata": {},
   "source": [
    "Еще один способ получения информации о данных- это их визуализация. Методы в scikit-learn позволяют строить гистограммы на основе \n",
    "аттрибутов, для облегченного понимания.\n",
    "Необходимо использовать метод .hist()"
   ]
  },
  {
   "cell_type": "markdown",
   "metadata": {},
   "source": [
    "### Визуализация"
   ]
  },
  {
   "cell_type": "code",
   "execution_count": 1130,
   "metadata": {},
   "outputs": [
    {
     "data": {
      "image/png": "[encoded data removed]",
      "text/plain": [
       "<Figure size 1440x1080 with 9 Axes>"
      ]
     },
     "metadata": {
      "needs_background": "light"
     },
     "output_type": "display_data"
    }
   ],
   "source": [
    "#указываем сервер,где будем отображать (в тетради юпитер)\n",
    "%matplotlib inline \n",
    "import matplotlib.pyplot as plt\n",
    "dataset.hist(bins=50, figsize=(20,15)) #hist() чертит гистограммы для каждого из столбцов\n",
    "#save_fig(\"attribute_histogram_plots\")\n",
    "plt.show() #отобразить на экране"
   ]
  },
  {
   "cell_type": "markdown",
   "metadata": {},
   "source": [
    "### Матрица Корреляции"
   ]
  },
  {
   "cell_type": "markdown",
   "metadata": {},
   "source": [
    "Рассмотрим матрицу корреляции. Она показывают насколько два или более случайно взятых параметра из датасета влияют друг на друга.\n",
    "Говоря научным языком, Корреляция  — взаимосвязь двух или более случайных величин. При этом изменения значений одной или нескольких из этих величин сопутствуют систематическому изменению значений другой или других величин."
   ]
  },
  {
   "cell_type": "code",
   "execution_count": 1131,
   "metadata": {},
   "outputs": [
    {
     "data": {
      "image/png": "[encoded data removed]",
      "text/plain": [
       "<Figure size 1368x1080 with 2 Axes>"
      ]
     },
     "metadata": {
      "needs_background": "light"
     },
     "output_type": "display_data"
    }
   ],
   "source": [
    "fig = plt.figure(figsize=(19, 15))\n",
    "plt.matshow(dataset.corr(), fignum=fig.number, cmap = \"coolwarm\")\n",
    "cb = plt.colorbar()\n",
    "cb.ax.tick_params(labelsize=14)\n",
    "plt.title('Матрица Корреляции', fontsize=16); "
   ]
  },
  {
   "cell_type": "markdown",
   "metadata": {},
   "source": [
    "Анализируя матрицу корреляции, можно сказать что в наборе данных присутствует строго отрицательная корреляция. (то есть, при изменении\n",
    "                                                                                                               одного параметра, другой \n",
    "                                                                                                               меняется в обратную сторону)"
   ]
  },
  {
   "cell_type": "markdown",
   "metadata": {},
   "source": [
    "Далее стоит позаботиться об обработке категориальных и текстовых признаков. Большинство алгоритмов МО предпочитают работать\n",
    "с числами, так что надо преобразовать категории из текста в числа."
   ]
  },
  {
   "cell_type": "markdown",
   "metadata": {},
   "source": [
    "Но для начала обработки данных, следует выделить из датасета результирующий столбец"
   ]
  },
  {
   "cell_type": "code",
   "execution_count": 1132,
   "metadata": {},
   "outputs": [
    {
     "data": {
      "text/html": [
       "<div>\n",
       "<style scoped>\n",
       "    .dataframe tbody tr th:only-of-type {\n",
       "        vertical-align: middle;\n",
       "    }\n",
       "\n",
       "    .dataframe tbody tr th {\n",
       "        vertical-align: top;\n",
       "    }\n",
       "\n",
       "    .dataframe thead th {\n",
       "        text-align: right;\n",
       "    }\n",
       "</style>\n",
       "<table border=\"1\" class=\"dataframe\">\n",
       "  <thead>\n",
       "    <tr style=\"text-align: right;\">\n",
       "      <th></th>\n",
       "      <th>19</th>\n",
       "    </tr>\n",
       "  </thead>\n",
       "  <tbody>\n",
       "    <tr>\n",
       "      <th>0</th>\n",
       "      <td>A201</td>\n",
       "    </tr>\n",
       "    <tr>\n",
       "      <th>1</th>\n",
       "      <td>A201</td>\n",
       "    </tr>\n",
       "    <tr>\n",
       "      <th>2</th>\n",
       "      <td>A201</td>\n",
       "    </tr>\n",
       "    <tr>\n",
       "      <th>3</th>\n",
       "      <td>A201</td>\n",
       "    </tr>\n",
       "    <tr>\n",
       "      <th>4</th>\n",
       "      <td>A201</td>\n",
       "    </tr>\n",
       "    <tr>\n",
       "      <th>5</th>\n",
       "      <td>A201</td>\n",
       "    </tr>\n",
       "    <tr>\n",
       "      <th>6</th>\n",
       "      <td>A201</td>\n",
       "    </tr>\n",
       "    <tr>\n",
       "      <th>7</th>\n",
       "      <td>A201</td>\n",
       "    </tr>\n",
       "    <tr>\n",
       "      <th>8</th>\n",
       "      <td>A201</td>\n",
       "    </tr>\n",
       "    <tr>\n",
       "      <th>9</th>\n",
       "      <td>A201</td>\n",
       "    </tr>\n",
       "  </tbody>\n",
       "</table>\n",
       "</div>"
      ],
      "text/plain": [
       "     19\n",
       "0  A201\n",
       "1  A201\n",
       "2  A201\n",
       "3  A201\n",
       "4  A201\n",
       "5  A201\n",
       "6  A201\n",
       "7  A201\n",
       "8  A201\n",
       "9  A201"
      ]
     },
     "execution_count": 1132,
     "metadata": {},
     "output_type": "execute_result"
    }
   ],
   "source": [
    "dataset_cat_label = dataset[[19]]\n",
    "dataset_cat_label.head(10)"
   ]
  },
  {
   "cell_type": "markdown",
   "metadata": {},
   "source": [
    "Превратим категориальные значения в числовые.Для\n",
    "этого можно применить метод OrdinalEncoder , который сопоставляет\n",
    "каждую категорию с отличающимся целым числом:"
   ]
  },
  {
   "cell_type": "code",
   "execution_count": 1133,
   "metadata": {},
   "outputs": [
    {
     "data": {
      "text/plain": [
       "array([[0.],\n",
       "       [0.],\n",
       "       [0.],\n",
       "       [0.],\n",
       "       [0.],\n",
       "       [0.],\n",
       "       [0.],\n",
       "       [0.],\n",
       "       [0.],\n",
       "       [0.]])"
      ]
     },
     "execution_count": 1133,
     "metadata": {},
     "output_type": "execute_result"
    }
   ],
   "source": [
    "from sklearn.preprocessing import OrdinalEncoder #импортируем библиотеку\n",
    "ordinal_encoder = OrdinalEncoder() #загружаем метод\n",
    "dataset_cat_encoded = ordinal_encoder.fit_transform(dataset_cat_label) #загружаем туда наш столбец\n",
    "dataset_cat_encoded[:10] #выводим первые 10 значений"
   ]
  },
  {
   "cell_type": "markdown",
   "metadata": {},
   "source": [
    "Теперь обратно добавим наш столбец и посмотрим на наш набор данных"
   ]
  },
  {
   "cell_type": "code",
   "execution_count": 1134,
   "metadata": {},
   "outputs": [
    {
     "data": {
      "text/html": [
       "<div>\n",
       "<style scoped>\n",
       "    .dataframe tbody tr th:only-of-type {\n",
       "        vertical-align: middle;\n",
       "    }\n",
       "\n",
       "    .dataframe tbody tr th {\n",
       "        vertical-align: top;\n",
       "    }\n",
       "\n",
       "    .dataframe thead th {\n",
       "        text-align: right;\n",
       "    }\n",
       "</style>\n",
       "<table border=\"1\" class=\"dataframe\">\n",
       "  <thead>\n",
       "    <tr style=\"text-align: right;\">\n",
       "      <th></th>\n",
       "      <th>0</th>\n",
       "      <th>1</th>\n",
       "      <th>2</th>\n",
       "      <th>3</th>\n",
       "      <th>4</th>\n",
       "      <th>5</th>\n",
       "      <th>6</th>\n",
       "      <th>7</th>\n",
       "      <th>8</th>\n",
       "      <th>9</th>\n",
       "      <th>10</th>\n",
       "      <th>11</th>\n",
       "      <th>12</th>\n",
       "      <th>13</th>\n",
       "      <th>14</th>\n",
       "      <th>15</th>\n",
       "      <th>16</th>\n",
       "      <th>17</th>\n",
       "      <th>18</th>\n",
       "      <th>19</th>\n",
       "    </tr>\n",
       "  </thead>\n",
       "  <tbody>\n",
       "    <tr>\n",
       "      <th>0</th>\n",
       "      <td>A11</td>\n",
       "      <td>6</td>\n",
       "      <td>A34</td>\n",
       "      <td>A43</td>\n",
       "      <td>1169</td>\n",
       "      <td>A65</td>\n",
       "      <td>A75</td>\n",
       "      <td>4</td>\n",
       "      <td>A93</td>\n",
       "      <td>A101</td>\n",
       "      <td>4</td>\n",
       "      <td>A121</td>\n",
       "      <td>67</td>\n",
       "      <td>A143</td>\n",
       "      <td>A152</td>\n",
       "      <td>2</td>\n",
       "      <td>A173</td>\n",
       "      <td>1</td>\n",
       "      <td>A192</td>\n",
       "      <td>0.0</td>\n",
       "    </tr>\n",
       "    <tr>\n",
       "      <th>1</th>\n",
       "      <td>A12</td>\n",
       "      <td>48</td>\n",
       "      <td>A32</td>\n",
       "      <td>A43</td>\n",
       "      <td>5951</td>\n",
       "      <td>A61</td>\n",
       "      <td>A73</td>\n",
       "      <td>2</td>\n",
       "      <td>A92</td>\n",
       "      <td>A101</td>\n",
       "      <td>2</td>\n",
       "      <td>A121</td>\n",
       "      <td>22</td>\n",
       "      <td>A143</td>\n",
       "      <td>A152</td>\n",
       "      <td>1</td>\n",
       "      <td>A173</td>\n",
       "      <td>1</td>\n",
       "      <td>A191</td>\n",
       "      <td>0.0</td>\n",
       "    </tr>\n",
       "    <tr>\n",
       "      <th>2</th>\n",
       "      <td>A14</td>\n",
       "      <td>12</td>\n",
       "      <td>A34</td>\n",
       "      <td>A46</td>\n",
       "      <td>2096</td>\n",
       "      <td>A61</td>\n",
       "      <td>A74</td>\n",
       "      <td>2</td>\n",
       "      <td>A93</td>\n",
       "      <td>A101</td>\n",
       "      <td>3</td>\n",
       "      <td>A121</td>\n",
       "      <td>49</td>\n",
       "      <td>A143</td>\n",
       "      <td>A152</td>\n",
       "      <td>1</td>\n",
       "      <td>A172</td>\n",
       "      <td>2</td>\n",
       "      <td>A191</td>\n",
       "      <td>0.0</td>\n",
       "    </tr>\n",
       "    <tr>\n",
       "      <th>3</th>\n",
       "      <td>A11</td>\n",
       "      <td>42</td>\n",
       "      <td>A32</td>\n",
       "      <td>A42</td>\n",
       "      <td>7882</td>\n",
       "      <td>A61</td>\n",
       "      <td>A74</td>\n",
       "      <td>2</td>\n",
       "      <td>A93</td>\n",
       "      <td>A103</td>\n",
       "      <td>4</td>\n",
       "      <td>A122</td>\n",
       "      <td>45</td>\n",
       "      <td>A143</td>\n",
       "      <td>A153</td>\n",
       "      <td>1</td>\n",
       "      <td>A173</td>\n",
       "      <td>2</td>\n",
       "      <td>A191</td>\n",
       "      <td>0.0</td>\n",
       "    </tr>\n",
       "    <tr>\n",
       "      <th>4</th>\n",
       "      <td>A11</td>\n",
       "      <td>24</td>\n",
       "      <td>A33</td>\n",
       "      <td>A40</td>\n",
       "      <td>4870</td>\n",
       "      <td>A61</td>\n",
       "      <td>A73</td>\n",
       "      <td>3</td>\n",
       "      <td>A93</td>\n",
       "      <td>A101</td>\n",
       "      <td>4</td>\n",
       "      <td>A124</td>\n",
       "      <td>53</td>\n",
       "      <td>A143</td>\n",
       "      <td>A153</td>\n",
       "      <td>2</td>\n",
       "      <td>A173</td>\n",
       "      <td>2</td>\n",
       "      <td>A191</td>\n",
       "      <td>0.0</td>\n",
       "    </tr>\n",
       "    <tr>\n",
       "      <th>...</th>\n",
       "      <td>...</td>\n",
       "      <td>...</td>\n",
       "      <td>...</td>\n",
       "      <td>...</td>\n",
       "      <td>...</td>\n",
       "      <td>...</td>\n",
       "      <td>...</td>\n",
       "      <td>...</td>\n",
       "      <td>...</td>\n",
       "      <td>...</td>\n",
       "      <td>...</td>\n",
       "      <td>...</td>\n",
       "      <td>...</td>\n",
       "      <td>...</td>\n",
       "      <td>...</td>\n",
       "      <td>...</td>\n",
       "      <td>...</td>\n",
       "      <td>...</td>\n",
       "      <td>...</td>\n",
       "      <td>...</td>\n",
       "    </tr>\n",
       "    <tr>\n",
       "      <th>995</th>\n",
       "      <td>A14</td>\n",
       "      <td>12</td>\n",
       "      <td>A32</td>\n",
       "      <td>A42</td>\n",
       "      <td>1736</td>\n",
       "      <td>A61</td>\n",
       "      <td>A74</td>\n",
       "      <td>3</td>\n",
       "      <td>A92</td>\n",
       "      <td>A101</td>\n",
       "      <td>4</td>\n",
       "      <td>A121</td>\n",
       "      <td>31</td>\n",
       "      <td>A143</td>\n",
       "      <td>A152</td>\n",
       "      <td>1</td>\n",
       "      <td>A172</td>\n",
       "      <td>1</td>\n",
       "      <td>A191</td>\n",
       "      <td>0.0</td>\n",
       "    </tr>\n",
       "    <tr>\n",
       "      <th>996</th>\n",
       "      <td>A11</td>\n",
       "      <td>30</td>\n",
       "      <td>A32</td>\n",
       "      <td>A41</td>\n",
       "      <td>3857</td>\n",
       "      <td>A61</td>\n",
       "      <td>A73</td>\n",
       "      <td>4</td>\n",
       "      <td>A91</td>\n",
       "      <td>A101</td>\n",
       "      <td>4</td>\n",
       "      <td>A122</td>\n",
       "      <td>40</td>\n",
       "      <td>A143</td>\n",
       "      <td>A152</td>\n",
       "      <td>1</td>\n",
       "      <td>A174</td>\n",
       "      <td>1</td>\n",
       "      <td>A192</td>\n",
       "      <td>0.0</td>\n",
       "    </tr>\n",
       "    <tr>\n",
       "      <th>997</th>\n",
       "      <td>A14</td>\n",
       "      <td>12</td>\n",
       "      <td>A32</td>\n",
       "      <td>A43</td>\n",
       "      <td>804</td>\n",
       "      <td>A61</td>\n",
       "      <td>A75</td>\n",
       "      <td>4</td>\n",
       "      <td>A93</td>\n",
       "      <td>A101</td>\n",
       "      <td>4</td>\n",
       "      <td>A123</td>\n",
       "      <td>38</td>\n",
       "      <td>A143</td>\n",
       "      <td>A152</td>\n",
       "      <td>1</td>\n",
       "      <td>A173</td>\n",
       "      <td>1</td>\n",
       "      <td>A191</td>\n",
       "      <td>0.0</td>\n",
       "    </tr>\n",
       "    <tr>\n",
       "      <th>998</th>\n",
       "      <td>A11</td>\n",
       "      <td>45</td>\n",
       "      <td>A32</td>\n",
       "      <td>A43</td>\n",
       "      <td>1845</td>\n",
       "      <td>A61</td>\n",
       "      <td>A73</td>\n",
       "      <td>4</td>\n",
       "      <td>A93</td>\n",
       "      <td>A101</td>\n",
       "      <td>4</td>\n",
       "      <td>A124</td>\n",
       "      <td>23</td>\n",
       "      <td>A143</td>\n",
       "      <td>A153</td>\n",
       "      <td>1</td>\n",
       "      <td>A173</td>\n",
       "      <td>1</td>\n",
       "      <td>A192</td>\n",
       "      <td>0.0</td>\n",
       "    </tr>\n",
       "    <tr>\n",
       "      <th>999</th>\n",
       "      <td>A12</td>\n",
       "      <td>45</td>\n",
       "      <td>A34</td>\n",
       "      <td>A41</td>\n",
       "      <td>4576</td>\n",
       "      <td>A62</td>\n",
       "      <td>A71</td>\n",
       "      <td>3</td>\n",
       "      <td>A93</td>\n",
       "      <td>A101</td>\n",
       "      <td>4</td>\n",
       "      <td>A123</td>\n",
       "      <td>27</td>\n",
       "      <td>A143</td>\n",
       "      <td>A152</td>\n",
       "      <td>1</td>\n",
       "      <td>A173</td>\n",
       "      <td>1</td>\n",
       "      <td>A191</td>\n",
       "      <td>0.0</td>\n",
       "    </tr>\n",
       "  </tbody>\n",
       "</table>\n",
       "<p>1000 rows × 20 columns</p>\n",
       "</div>"
      ],
      "text/plain": [
       "      0   1    2    3     4    5    6   7    8     9   10    11  12    13  \\\n",
       "0    A11   6  A34  A43  1169  A65  A75   4  A93  A101   4  A121  67  A143   \n",
       "1    A12  48  A32  A43  5951  A61  A73   2  A92  A101   2  A121  22  A143   \n",
       "2    A14  12  A34  A46  2096  A61  A74   2  A93  A101   3  A121  49  A143   \n",
       "3    A11  42  A32  A42  7882  A61  A74   2  A93  A103   4  A122  45  A143   \n",
       "4    A11  24  A33  A40  4870  A61  A73   3  A93  A101   4  A124  53  A143   \n",
       "..   ...  ..  ...  ...   ...  ...  ...  ..  ...   ...  ..   ...  ..   ...   \n",
       "995  A14  12  A32  A42  1736  A61  A74   3  A92  A101   4  A121  31  A143   \n",
       "996  A11  30  A32  A41  3857  A61  A73   4  A91  A101   4  A122  40  A143   \n",
       "997  A14  12  A32  A43   804  A61  A75   4  A93  A101   4  A123  38  A143   \n",
       "998  A11  45  A32  A43  1845  A61  A73   4  A93  A101   4  A124  23  A143   \n",
       "999  A12  45  A34  A41  4576  A62  A71   3  A93  A101   4  A123  27  A143   \n",
       "\n",
       "       14  15    16  17    18   19  \n",
       "0    A152   2  A173   1  A192  0.0  \n",
       "1    A152   1  A173   1  A191  0.0  \n",
       "2    A152   1  A172   2  A191  0.0  \n",
       "3    A153   1  A173   2  A191  0.0  \n",
       "4    A153   2  A173   2  A191  0.0  \n",
       "..    ...  ..   ...  ..   ...  ...  \n",
       "995  A152   1  A172   1  A191  0.0  \n",
       "996  A152   1  A174   1  A192  0.0  \n",
       "997  A152   1  A173   1  A191  0.0  \n",
       "998  A153   1  A173   1  A192  0.0  \n",
       "999  A152   1  A173   1  A191  0.0  \n",
       "\n",
       "[1000 rows x 20 columns]"
      ]
     },
     "execution_count": 1134,
     "metadata": {},
     "output_type": "execute_result"
    }
   ],
   "source": [
    "dataset[19]=dataset_cat_encoded\n",
    "dataset"
   ]
  },
  {
   "cell_type": "markdown",
   "metadata": {},
   "source": [
    "Как можно заметить, обработка прошла успешно"
   ]
  },
  {
   "cell_type": "markdown",
   "metadata": {},
   "source": [
    "Всегда полезно знать, сколько и какие значения находятся в наших данных. Это можно проверить с помощью метода value_counts() и info()"
   ]
  },
  {
   "cell_type": "code",
   "execution_count": 1135,
   "metadata": {},
   "outputs": [
    {
     "data": {
      "text/plain": [
       "0.0    963\n",
       "1.0     37\n",
       "Name: 19, dtype: int64"
      ]
     },
     "execution_count": 1135,
     "metadata": {},
     "output_type": "execute_result"
    }
   ],
   "source": [
    "dataset[19].value_counts()"
   ]
  },
  {
   "cell_type": "markdown",
   "metadata": {},
   "source": [
    "Здесь мы видим, что данные не сбалансированы, значений 0 гораздо больше, чем 1. "
   ]
  },
  {
   "cell_type": "markdown",
   "metadata": {},
   "source": [
    "Для нашего удобства поменяем 0 и 1 местами, так как 1 соответствует значению(yes), а 0 значению(no)."
   ]
  },
  {
   "cell_type": "code",
   "execution_count": 1136,
   "metadata": {},
   "outputs": [
    {
     "name": "stderr",
     "output_type": "stream",
     "text": [
      "C:\\ANACONDA\\lib\\site-packages\\pandas\\core\\indexing.py:671: SettingWithCopyWarning: \n",
      "A value is trying to be set on a copy of a slice from a DataFrame\n",
      "\n",
      "See the caveats in the documentation: https://pandas.pydata.org/pandas-docs/stable/user_guide/indexing.html#returning-a-view-versus-a-copy\n",
      "  self._setitem_with_indexer(indexer, value)\n"
     ]
    },
    {
     "data": {
      "text/plain": [
       "1.0    963\n",
       "0.0     37\n",
       "Name: 19, dtype: int64"
      ]
     },
     "execution_count": 1136,
     "metadata": {},
     "output_type": "execute_result"
    }
   ],
   "source": [
    "mask = (dataset[19] == 0)\n",
    "dataset[19].loc[mask] = 2\n",
    "mask1 = (dataset[19] == 1)\n",
    "dataset[19].loc[mask1] = 0\n",
    "mask2 = (dataset[19] == 2)\n",
    "dataset[19].loc[mask2] = 1\n",
    "dataset[19].value_counts()"
   ]
  },
  {
   "cell_type": "code",
   "execution_count": 1137,
   "metadata": {},
   "outputs": [
    {
     "name": "stdout",
     "output_type": "stream",
     "text": [
      "<class 'pandas.core.frame.DataFrame'>\n",
      "RangeIndex: 1000 entries, 0 to 999\n",
      "Data columns (total 20 columns):\n",
      " #   Column  Non-Null Count  Dtype  \n",
      "---  ------  --------------  -----  \n",
      " 0   0       1000 non-null   object \n",
      " 1   1       1000 non-null   int64  \n",
      " 2   2       1000 non-null   object \n",
      " 3   3       1000 non-null   object \n",
      " 4   4       1000 non-null   int64  \n",
      " 5   5       1000 non-null   object \n",
      " 6   6       1000 non-null   object \n",
      " 7   7       1000 non-null   int64  \n",
      " 8   8       1000 non-null   object \n",
      " 9   9       1000 non-null   object \n",
      " 10  10      1000 non-null   int64  \n",
      " 11  11      1000 non-null   object \n",
      " 12  12      1000 non-null   int64  \n",
      " 13  13      1000 non-null   object \n",
      " 14  14      1000 non-null   object \n",
      " 15  15      1000 non-null   int64  \n",
      " 16  16      1000 non-null   object \n",
      " 17  17      1000 non-null   int64  \n",
      " 18  18      1000 non-null   object \n",
      " 19  19      1000 non-null   float64\n",
      "dtypes: float64(1), int64(7), object(12)\n",
      "memory usage: 156.4+ KB\n"
     ]
    }
   ],
   "source": [
    "#с помощью метода info() посмотрим на свойства данных\n",
    "dataset.info()"
   ]
  },
  {
   "cell_type": "markdown",
   "metadata": {},
   "source": [
    "Информация выше нам говорит о том, что в датасете много текстовых и категориальных признаков, это необходимо исправить для нормальной работы методов обучения. Код ниже создает списки вида признаков. Это необходимо для удобного обращения к ним и последующего исправления"
   ]
  },
  {
   "cell_type": "code",
   "execution_count": 1138,
   "metadata": {},
   "outputs": [
    {
     "data": {
      "text/plain": [
       "[1, 4, 7, 10, 12, 15, 17]"
      ]
     },
     "execution_count": 1138,
     "metadata": {},
     "output_type": "execute_result"
    }
   ],
   "source": [
    "num_attribs = [] #номер столбцов числовых признаков\n",
    "label_attribs = [0, 5, 6] \n",
    "cat_attribs = [] #номера категориальных признаков\n",
    "\n",
    "#цикл проходит по данным и заносит столбцы в списки категориальных признаков, либо числоых, в зависимости от условия принадлежности типа\n",
    "for i in range(0, 19):\n",
    "    if i not in label_attribs:\n",
    "        if dataset[i].dtype == \"object\":\n",
    "            cat_attribs.append(i)\n",
    "        else:\n",
    "            num_attribs.append(i)\n",
    "#вывыедем номера числовых признаков\n",
    "num_attribs"
   ]
  },
  {
   "cell_type": "markdown",
   "metadata": {},
   "source": [
    "### Разделение данных"
   ]
  },
  {
   "cell_type": "markdown",
   "metadata": {},
   "source": [
    "Сейчас самое время разделить данные. "
   ]
  },
  {
   "cell_type": "markdown",
   "metadata": {},
   "source": [
    "Для применения к набору данных методов обучения, необходимо разделить данные на примеры, которые система использует для обучения,\n",
    "называемые обучающим набором (training set) и на примеры, которые система использует для тестирования системы,\n",
    "называемые тестовым набором (test set). Обычные пропорции 80 на 20 процентов, где 80 процентов обучающих данных,а 20 процентов-тестовых. "
   ]
  },
  {
   "cell_type": "markdown",
   "metadata": {},
   "source": [
    "    #X_train, X_test, y_train, y_test = X_prep[:800], X_prep[800:], y_data[:800], y_data[800:]\n",
    "Мы можем сохранить способ разделения данных, как показано строкой выше. Но будет допущена неточность, которая впоследующем может\n",
    "оказать влияние на результат.Присутствует риск привнесения значительного смещения выборки.\n",
    "Необходимо провести стратифицированную выборку (stratified sampling): данные делятся на однородные подгруппы,\n",
    "называемые стратами (strata), и из каждой страты извлекается правильное\n",
    "число образцов, чтобы гарантировать репрезентативность испытательного\n",
    "набора для всего набора данных."
   ]
  },
  {
   "cell_type": "markdown",
   "metadata": {},
   "source": [
    "Также стоит отметить, что стратифицированную выборку мы провели на основе \n",
    "прогнозируемого результата (то есть результируещего столбца, \n",
    "                            значения которого модель должна предсказать)"
   ]
  },
  {
   "cell_type": "code",
   "execution_count": 1139,
   "metadata": {},
   "outputs": [],
   "source": [
    "from sklearn.model_selection import StratifiedShuffleSplit\n",
    "#тут указываем Кол-во итераций перетасовки и процентное соотношение тестовой и тренировочной выборки (0.8 и 0.2)\n",
    "split = StratifiedShuffleSplit(n_splits = 1, test_size = 0.2, random_state = 42) \n",
    "for train_index, test_index in split.split(dataset,dataset[19]):\n",
    "    strat_train_set = dataset.loc[train_index]\n",
    "    strat_test_set = dataset.loc[test_index]"
   ]
  },
  {
   "cell_type": "code",
   "execution_count": 1140,
   "metadata": {},
   "outputs": [
    {
     "data": {
      "text/plain": [
       "1.0    770\n",
       "0.0     30\n",
       "Name: 19, dtype: int64"
      ]
     },
     "execution_count": 1140,
     "metadata": {},
     "output_type": "execute_result"
    }
   ],
   "source": [
    "X_train_raw= strat_train_set.drop(19, axis=1)\n",
    "y_train = strat_train_set[19].copy()\n",
    "X_test_raw = strat_test_set.drop(19, axis=1) #получаем тестовые данные, \n",
    "y_test = strat_test_set[19].copy() #и столбец, значения которого должны предсказать\n",
    "y_train.value_counts() #данные перетосавались, но их соотношение между собой не изменилось, проверим (кол-во 0 и 1 осталось таким же)"
   ]
  },
  {
   "cell_type": "markdown",
   "metadata": {},
   "source": [
    " Для удобной обработки данных в правильном порядке в Scikit-Learn были созданы конвейеры трансформации(pipeline)."
   ]
  },
  {
   "cell_type": "code",
   "execution_count": 1141,
   "metadata": {},
   "outputs": [],
   "source": [
    "from sklearn.pipeline import Pipeline\n",
    "\n",
    "from sklearn.impute import SimpleImputer\n",
    "from sklearn.preprocessing import OrdinalEncoder\n",
    "from sklearn.preprocessing import OneHotEncoder\n",
    "\n",
    "from sklearn.preprocessing import MinMaxScaler #функция масштабирования\n",
    "\n",
    "\n",
    "num_pipeline = Pipeline([('imputer', SimpleImputer(strategy=\"median\")),\n",
    "                         ('mm_scaler', MinMaxScaler()),\n",
    "                        ])\n",
    "\n",
    "label_pipeline = Pipeline([('encoder', OrdinalEncoder()),\n",
    "                           ('imputer', SimpleImputer(strategy=\"median\")),\n",
    "                           ('mm_scaler', MinMaxScaler()),\n",
    "                          ])\n",
    "\n",
    "cat_pipeline = Pipeline([('imputer', SimpleImputer(strategy=\"most_frequent\")), #fill_value='0'\n",
    "                         ('encoder', OneHotEncoder()),\n",
    "                        ])"
   ]
  },
  {
   "cell_type": "markdown",
   "metadata": {},
   "source": [
    "Конструктор Pipeline принимает список пар \"имя/оценщик', определяющий\n",
    "последовательность шагов. Все кроме последнего оценщика обязаны быть\n",
    "трансформаторами (т.е. они должны иметь метод fit_transform()). Имена\n",
    "могут быть какими угодно (пока они не содержат два подчеркивания (_)).\n",
    "Вызов метода fit() конвейера приводит к последовательному вызову методов\n",
    "fit_transform() всех трансформаторов с передачей вывода каждого\n",
    "вызова в качестве параметра следующему вызову до тех пор, пока не будет достигнут\n",
    "последний оценщик, для которого просто вызывается метод fit().\n",
    "Конвейер открывает доступ к тем же самым методам, что и финальный оценщик.\n",
    "В текущем примере последним оценщиком является StandardScaler,\n",
    "представляющий собой трансформатор, поэтому конвейер имеет метод\n",
    "transform(), который применяет все трансформации к данным в последовательности\n",
    "(в нем также есть метод fit_transform(), который можно\n",
    "было бы использовать вместо вызова fit() и затем transform())."
   ]
  },
  {
   "cell_type": "markdown",
   "metadata": {},
   "source": [
    "Теперь необходимо применить конвейеры к номерам наших столбцов. Это делается с помощью метода ColumnTransformer из sklearn.compose"
   ]
  },
  {
   "cell_type": "code",
   "execution_count": 1142,
   "metadata": {},
   "outputs": [],
   "source": [
    "from sklearn.compose import ColumnTransformer\n",
    "\n",
    "full_pipeline = ColumnTransformer([(\"num\", num_pipeline, num_attribs), \n",
    "                                   (\"label\", label_pipeline, label_attribs),\n",
    "                                   (\"cat\", cat_pipeline, cat_attribs),\n",
    "                                  ])\n",
    "#создали конвейр и с помощью метода fit_transform() поместили туда датасет.\n",
    "X_train = full_pipeline.fit_transform(X_train_raw) #подготовленные данные\n",
    "X_test = full_pipeline.fit_transform(X_test_raw) #подготовленные данные"
   ]
  },
  {
   "cell_type": "markdown",
   "metadata": {},
   "source": [
    "Для единой стилизации и для дальнейшей работы, приведем наши данные к типу объекта Dataframe"
   ]
  },
  {
   "cell_type": "code",
   "execution_count": 1143,
   "metadata": {},
   "outputs": [
    {
     "data": {
      "text/html": [
       "<div>\n",
       "<style scoped>\n",
       "    .dataframe tbody tr th:only-of-type {\n",
       "        vertical-align: middle;\n",
       "    }\n",
       "\n",
       "    .dataframe tbody tr th {\n",
       "        vertical-align: top;\n",
       "    }\n",
       "\n",
       "    .dataframe thead th {\n",
       "        text-align: right;\n",
       "    }\n",
       "</style>\n",
       "<table border=\"1\" class=\"dataframe\">\n",
       "  <thead>\n",
       "    <tr style=\"text-align: right;\">\n",
       "      <th></th>\n",
       "      <th>0</th>\n",
       "      <th>1</th>\n",
       "      <th>2</th>\n",
       "      <th>3</th>\n",
       "      <th>4</th>\n",
       "      <th>5</th>\n",
       "      <th>6</th>\n",
       "      <th>7</th>\n",
       "      <th>8</th>\n",
       "      <th>9</th>\n",
       "      <th>...</th>\n",
       "      <th>38</th>\n",
       "      <th>39</th>\n",
       "      <th>40</th>\n",
       "      <th>41</th>\n",
       "      <th>42</th>\n",
       "      <th>43</th>\n",
       "      <th>44</th>\n",
       "      <th>45</th>\n",
       "      <th>46</th>\n",
       "      <th>47</th>\n",
       "    </tr>\n",
       "  </thead>\n",
       "  <tbody>\n",
       "    <tr>\n",
       "      <th>0</th>\n",
       "      <td>0.470588</td>\n",
       "      <td>0.395180</td>\n",
       "      <td>0.333333</td>\n",
       "      <td>0.333333</td>\n",
       "      <td>0.625000</td>\n",
       "      <td>0.000000</td>\n",
       "      <td>0.0</td>\n",
       "      <td>0.333333</td>\n",
       "      <td>0.00</td>\n",
       "      <td>0.50</td>\n",
       "      <td>...</td>\n",
       "      <td>1.0</td>\n",
       "      <td>1.0</td>\n",
       "      <td>0.0</td>\n",
       "      <td>0.0</td>\n",
       "      <td>0.0</td>\n",
       "      <td>0.0</td>\n",
       "      <td>1.0</td>\n",
       "      <td>0.0</td>\n",
       "      <td>1.0</td>\n",
       "      <td>0.0</td>\n",
       "    </tr>\n",
       "    <tr>\n",
       "      <th>1</th>\n",
       "      <td>0.647059</td>\n",
       "      <td>0.137614</td>\n",
       "      <td>1.000000</td>\n",
       "      <td>0.666667</td>\n",
       "      <td>0.339286</td>\n",
       "      <td>0.333333</td>\n",
       "      <td>1.0</td>\n",
       "      <td>1.000000</td>\n",
       "      <td>1.00</td>\n",
       "      <td>1.00</td>\n",
       "      <td>...</td>\n",
       "      <td>1.0</td>\n",
       "      <td>0.0</td>\n",
       "      <td>1.0</td>\n",
       "      <td>0.0</td>\n",
       "      <td>0.0</td>\n",
       "      <td>0.0</td>\n",
       "      <td>1.0</td>\n",
       "      <td>0.0</td>\n",
       "      <td>0.0</td>\n",
       "      <td>1.0</td>\n",
       "    </tr>\n",
       "    <tr>\n",
       "      <th>2</th>\n",
       "      <td>0.294118</td>\n",
       "      <td>0.122868</td>\n",
       "      <td>1.000000</td>\n",
       "      <td>1.000000</td>\n",
       "      <td>0.053571</td>\n",
       "      <td>0.000000</td>\n",
       "      <td>0.0</td>\n",
       "      <td>0.000000</td>\n",
       "      <td>0.50</td>\n",
       "      <td>0.50</td>\n",
       "      <td>...</td>\n",
       "      <td>0.0</td>\n",
       "      <td>0.0</td>\n",
       "      <td>1.0</td>\n",
       "      <td>0.0</td>\n",
       "      <td>0.0</td>\n",
       "      <td>0.0</td>\n",
       "      <td>1.0</td>\n",
       "      <td>0.0</td>\n",
       "      <td>0.0</td>\n",
       "      <td>1.0</td>\n",
       "    </tr>\n",
       "    <tr>\n",
       "      <th>3</th>\n",
       "      <td>0.117647</td>\n",
       "      <td>0.055464</td>\n",
       "      <td>0.333333</td>\n",
       "      <td>1.000000</td>\n",
       "      <td>0.053571</td>\n",
       "      <td>0.333333</td>\n",
       "      <td>0.0</td>\n",
       "      <td>1.000000</td>\n",
       "      <td>0.00</td>\n",
       "      <td>0.25</td>\n",
       "      <td>...</td>\n",
       "      <td>1.0</td>\n",
       "      <td>1.0</td>\n",
       "      <td>0.0</td>\n",
       "      <td>0.0</td>\n",
       "      <td>0.0</td>\n",
       "      <td>1.0</td>\n",
       "      <td>0.0</td>\n",
       "      <td>0.0</td>\n",
       "      <td>1.0</td>\n",
       "      <td>0.0</td>\n",
       "    </tr>\n",
       "    <tr>\n",
       "      <th>4</th>\n",
       "      <td>0.294118</td>\n",
       "      <td>0.082811</td>\n",
       "      <td>1.000000</td>\n",
       "      <td>1.000000</td>\n",
       "      <td>0.696429</td>\n",
       "      <td>0.000000</td>\n",
       "      <td>0.0</td>\n",
       "      <td>0.000000</td>\n",
       "      <td>0.00</td>\n",
       "      <td>1.00</td>\n",
       "      <td>...</td>\n",
       "      <td>1.0</td>\n",
       "      <td>0.0</td>\n",
       "      <td>1.0</td>\n",
       "      <td>0.0</td>\n",
       "      <td>0.0</td>\n",
       "      <td>1.0</td>\n",
       "      <td>0.0</td>\n",
       "      <td>0.0</td>\n",
       "      <td>0.0</td>\n",
       "      <td>1.0</td>\n",
       "    </tr>\n",
       "    <tr>\n",
       "      <th>...</th>\n",
       "      <td>...</td>\n",
       "      <td>...</td>\n",
       "      <td>...</td>\n",
       "      <td>...</td>\n",
       "      <td>...</td>\n",
       "      <td>...</td>\n",
       "      <td>...</td>\n",
       "      <td>...</td>\n",
       "      <td>...</td>\n",
       "      <td>...</td>\n",
       "      <td>...</td>\n",
       "      <td>...</td>\n",
       "      <td>...</td>\n",
       "      <td>...</td>\n",
       "      <td>...</td>\n",
       "      <td>...</td>\n",
       "      <td>...</td>\n",
       "      <td>...</td>\n",
       "      <td>...</td>\n",
       "      <td>...</td>\n",
       "      <td>...</td>\n",
       "    </tr>\n",
       "    <tr>\n",
       "      <th>795</th>\n",
       "      <td>0.205882</td>\n",
       "      <td>0.111588</td>\n",
       "      <td>0.666667</td>\n",
       "      <td>0.666667</td>\n",
       "      <td>0.160714</td>\n",
       "      <td>0.333333</td>\n",
       "      <td>0.0</td>\n",
       "      <td>0.333333</td>\n",
       "      <td>0.25</td>\n",
       "      <td>0.25</td>\n",
       "      <td>...</td>\n",
       "      <td>1.0</td>\n",
       "      <td>0.0</td>\n",
       "      <td>1.0</td>\n",
       "      <td>0.0</td>\n",
       "      <td>0.0</td>\n",
       "      <td>0.0</td>\n",
       "      <td>1.0</td>\n",
       "      <td>0.0</td>\n",
       "      <td>1.0</td>\n",
       "      <td>0.0</td>\n",
       "    </tr>\n",
       "    <tr>\n",
       "      <th>796</th>\n",
       "      <td>0.294118</td>\n",
       "      <td>0.070155</td>\n",
       "      <td>1.000000</td>\n",
       "      <td>0.666667</td>\n",
       "      <td>0.267857</td>\n",
       "      <td>0.000000</td>\n",
       "      <td>1.0</td>\n",
       "      <td>1.000000</td>\n",
       "      <td>0.75</td>\n",
       "      <td>0.75</td>\n",
       "      <td>...</td>\n",
       "      <td>1.0</td>\n",
       "      <td>0.0</td>\n",
       "      <td>1.0</td>\n",
       "      <td>0.0</td>\n",
       "      <td>0.0</td>\n",
       "      <td>0.0</td>\n",
       "      <td>1.0</td>\n",
       "      <td>0.0</td>\n",
       "      <td>0.0</td>\n",
       "      <td>1.0</td>\n",
       "    </tr>\n",
       "    <tr>\n",
       "      <th>797</th>\n",
       "      <td>0.338235</td>\n",
       "      <td>0.174205</td>\n",
       "      <td>0.666667</td>\n",
       "      <td>0.333333</td>\n",
       "      <td>0.142857</td>\n",
       "      <td>0.000000</td>\n",
       "      <td>0.0</td>\n",
       "      <td>0.000000</td>\n",
       "      <td>0.00</td>\n",
       "      <td>0.50</td>\n",
       "      <td>...</td>\n",
       "      <td>1.0</td>\n",
       "      <td>0.0</td>\n",
       "      <td>1.0</td>\n",
       "      <td>0.0</td>\n",
       "      <td>0.0</td>\n",
       "      <td>0.0</td>\n",
       "      <td>0.0</td>\n",
       "      <td>1.0</td>\n",
       "      <td>1.0</td>\n",
       "      <td>0.0</td>\n",
       "    </tr>\n",
       "    <tr>\n",
       "      <th>798</th>\n",
       "      <td>0.088235</td>\n",
       "      <td>0.107846</td>\n",
       "      <td>0.333333</td>\n",
       "      <td>0.333333</td>\n",
       "      <td>0.107143</td>\n",
       "      <td>0.000000</td>\n",
       "      <td>0.0</td>\n",
       "      <td>1.000000</td>\n",
       "      <td>0.00</td>\n",
       "      <td>0.50</td>\n",
       "      <td>...</td>\n",
       "      <td>0.0</td>\n",
       "      <td>1.0</td>\n",
       "      <td>0.0</td>\n",
       "      <td>0.0</td>\n",
       "      <td>0.0</td>\n",
       "      <td>1.0</td>\n",
       "      <td>0.0</td>\n",
       "      <td>0.0</td>\n",
       "      <td>1.0</td>\n",
       "      <td>0.0</td>\n",
       "    </tr>\n",
       "    <tr>\n",
       "      <th>799</th>\n",
       "      <td>0.294118</td>\n",
       "      <td>0.144272</td>\n",
       "      <td>0.666667</td>\n",
       "      <td>1.000000</td>\n",
       "      <td>0.303571</td>\n",
       "      <td>0.000000</td>\n",
       "      <td>1.0</td>\n",
       "      <td>1.000000</td>\n",
       "      <td>0.25</td>\n",
       "      <td>1.00</td>\n",
       "      <td>...</td>\n",
       "      <td>1.0</td>\n",
       "      <td>0.0</td>\n",
       "      <td>1.0</td>\n",
       "      <td>0.0</td>\n",
       "      <td>0.0</td>\n",
       "      <td>0.0</td>\n",
       "      <td>1.0</td>\n",
       "      <td>0.0</td>\n",
       "      <td>0.0</td>\n",
       "      <td>1.0</td>\n",
       "    </tr>\n",
       "  </tbody>\n",
       "</table>\n",
       "<p>800 rows × 48 columns</p>\n",
       "</div>"
      ],
      "text/plain": [
       "           0         1         2         3         4         5    6   \\\n",
       "0    0.470588  0.395180  0.333333  0.333333  0.625000  0.000000  0.0   \n",
       "1    0.647059  0.137614  1.000000  0.666667  0.339286  0.333333  1.0   \n",
       "2    0.294118  0.122868  1.000000  1.000000  0.053571  0.000000  0.0   \n",
       "3    0.117647  0.055464  0.333333  1.000000  0.053571  0.333333  0.0   \n",
       "4    0.294118  0.082811  1.000000  1.000000  0.696429  0.000000  0.0   \n",
       "..        ...       ...       ...       ...       ...       ...  ...   \n",
       "795  0.205882  0.111588  0.666667  0.666667  0.160714  0.333333  0.0   \n",
       "796  0.294118  0.070155  1.000000  0.666667  0.267857  0.000000  1.0   \n",
       "797  0.338235  0.174205  0.666667  0.333333  0.142857  0.000000  0.0   \n",
       "798  0.088235  0.107846  0.333333  0.333333  0.107143  0.000000  0.0   \n",
       "799  0.294118  0.144272  0.666667  1.000000  0.303571  0.000000  1.0   \n",
       "\n",
       "           7     8     9   ...   38   39   40   41   42   43   44   45   46  \\\n",
       "0    0.333333  0.00  0.50  ...  1.0  1.0  0.0  0.0  0.0  0.0  1.0  0.0  1.0   \n",
       "1    1.000000  1.00  1.00  ...  1.0  0.0  1.0  0.0  0.0  0.0  1.0  0.0  0.0   \n",
       "2    0.000000  0.50  0.50  ...  0.0  0.0  1.0  0.0  0.0  0.0  1.0  0.0  0.0   \n",
       "3    1.000000  0.00  0.25  ...  1.0  1.0  0.0  0.0  0.0  1.0  0.0  0.0  1.0   \n",
       "4    0.000000  0.00  1.00  ...  1.0  0.0  1.0  0.0  0.0  1.0  0.0  0.0  0.0   \n",
       "..        ...   ...   ...  ...  ...  ...  ...  ...  ...  ...  ...  ...  ...   \n",
       "795  0.333333  0.25  0.25  ...  1.0  0.0  1.0  0.0  0.0  0.0  1.0  0.0  1.0   \n",
       "796  1.000000  0.75  0.75  ...  1.0  0.0  1.0  0.0  0.0  0.0  1.0  0.0  0.0   \n",
       "797  0.000000  0.00  0.50  ...  1.0  0.0  1.0  0.0  0.0  0.0  0.0  1.0  1.0   \n",
       "798  1.000000  0.00  0.50  ...  0.0  1.0  0.0  0.0  0.0  1.0  0.0  0.0  1.0   \n",
       "799  1.000000  0.25  1.00  ...  1.0  0.0  1.0  0.0  0.0  0.0  1.0  0.0  0.0   \n",
       "\n",
       "      47  \n",
       "0    0.0  \n",
       "1    1.0  \n",
       "2    1.0  \n",
       "3    0.0  \n",
       "4    1.0  \n",
       "..   ...  \n",
       "795  0.0  \n",
       "796  1.0  \n",
       "797  0.0  \n",
       "798  0.0  \n",
       "799  1.0  \n",
       "\n",
       "[800 rows x 48 columns]"
      ]
     },
     "execution_count": 1143,
     "metadata": {},
     "output_type": "execute_result"
    }
   ],
   "source": [
    "X_prep = pd.DataFrame(X_train)\n",
    "X_prep #посмотрим на нашим данные"
   ]
  },
  {
   "cell_type": "code",
   "execution_count": 1144,
   "metadata": {},
   "outputs": [],
   "source": [
    "X_prep_test = pd.DataFrame(X_test)"
   ]
  },
  {
   "cell_type": "markdown",
   "metadata": {},
   "source": [
    "Теперь видно, что количество столбцов увеличилось. Это произошло из-за разбиения текстовых признаков методом OneHotEncoder.Он предназначен для преобразования\n",
    "целочисленных категориальных значений в векторы в унитарном коде."
   ]
  },
  {
   "cell_type": "code",
   "execution_count": 1145,
   "metadata": {},
   "outputs": [
    {
     "data": {
      "text/plain": [
       "array([[0.47058824, 0.39517993, 0.33333333, ..., 0.        , 1.        ,\n",
       "        0.        ],\n",
       "       [0.64705882, 0.13761417, 1.        , ..., 0.        , 0.        ,\n",
       "        1.        ],\n",
       "       [0.29411765, 0.12286783, 1.        , ..., 0.        , 0.        ,\n",
       "        1.        ],\n",
       "       ...,\n",
       "       [0.33823529, 0.17420491, 0.66666667, ..., 1.        , 1.        ,\n",
       "        0.        ],\n",
       "       [0.08823529, 0.10784637, 0.33333333, ..., 0.        , 1.        ,\n",
       "        0.        ],\n",
       "       [0.29411765, 0.14427204, 0.66666667, ..., 0.        , 0.        ,\n",
       "        1.        ]])"
      ]
     },
     "execution_count": 1145,
     "metadata": {},
     "output_type": "execute_result"
    }
   ],
   "source": [
    "X_train #посмотрим на тренировочные данные"
   ]
  },
  {
   "cell_type": "markdown",
   "metadata": {},
   "source": [
    "Попробуем применять разные методы обучения для получения оптимального результата."
   ]
  },
  {
   "cell_type": "code",
   "execution_count": 1146,
   "metadata": {},
   "outputs": [
    {
     "data": {
      "text/plain": [
       "815    1.0\n",
       "787    1.0\n",
       "743    1.0\n",
       "797    1.0\n",
       "83     1.0\n",
       "      ... \n",
       "556    1.0\n",
       "327    1.0\n",
       "142    1.0\n",
       "864    1.0\n",
       "160    1.0\n",
       "Name: 19, Length: 800, dtype: float64"
      ]
     },
     "execution_count": 1146,
     "metadata": {},
     "output_type": "execute_result"
    }
   ],
   "source": [
    "y_train"
   ]
  },
  {
   "cell_type": "markdown",
   "metadata": {},
   "source": [
    "Попробуем применять методы обучения. Сначала будем проверять их на обучающем наборе."
   ]
  },
  {
   "cell_type": "markdown",
   "metadata": {},
   "source": [
    "### RandomForestClassifier"
   ]
  },
  {
   "cell_type": "code",
   "execution_count": 1147,
   "metadata": {},
   "outputs": [
    {
     "name": "stdout",
     "output_type": "stream",
     "text": [
      "Суммы оценок RandomForest: [0.96254682 0.96254682 0.96240602]; Среднее: 0.962499882665465\n"
     ]
    }
   ],
   "source": [
    "from sklearn.ensemble import RandomForestClassifier #загрузка библиотек\n",
    "from sklearn.model_selection import cross_val_score\n",
    "from sklearn.model_selection import cross_val_predict\n",
    "forest_clf=RandomForestClassifier(random_state = 42) #получение модели\n",
    "forest_clf.fit(X_train, y_train) #применение метода fit , то есть загрузили данные для обучения\n",
    "score = cross_val_score(forest_clf, X_train, y_train, cv=3, scoring=\"accuracy\") #рассмотрим оценку модели,cross_val_score\n",
    "print(\"Суммы оценок RandomForest: {}; Среднее: {}\".format(score, np.mean(score))) #можем сделать вывод о качестве модели"
   ]
  },
  {
   "cell_type": "code",
   "execution_count": 1148,
   "metadata": {},
   "outputs": [],
   "source": [
    "y_pred = forest_clf.predict(X_train) #применяем метод predict для получения полученного столбца,который выдала модель\n",
    "#y_pred=cross_val_predict(forest_clf, X_train, y_train, cv=3)"
   ]
  },
  {
   "cell_type": "markdown",
   "metadata": {},
   "source": [
    "Для более показательного результата, создадим матрицу неточностей (confusion  matrix)."
   ]
  },
  {
   "cell_type": "markdown",
   "metadata": {},
   "source": [
    "Confusion matrix-очень хороший способ оценки производительности классификатора. Общая\n",
    "идея заключается в том, чтобы подсчитать, сколько раз образцы класса А\n",
    "были отнесены к классу В.\n",
    "Для расчета матрицы неточностей сначала понадобится иметь набор прогнозов (y_pred),\n",
    "чтобы их можно было сравнивать с фактическими целями."
   ]
  },
  {
   "cell_type": "markdown",
   "metadata": {},
   "source": [
    "Каждая строка в матрице неточностей представляет фактический класс,\n",
    "а каждый столбец - спрогнозированный класс. Первая строка матрицы учитывает\n",
    "изображения не пятерок (отрицательный класс (negative class) ):\n",
    "0 их них были корректно классифицированы как не 1.0 (\"yes\") (истинно\n",
    "отрицательные классификации (true negative - TN)), тогда как оставшиеся\n",
    "30 были ошибочно классифицированы как \"yes\" (ложноположительные\n",
    "классификации (false positive - FP)). Вторая строка матрицы учитывает когда \"yes\"(положительный класс (positive class)): 0 были ошибочно\n",
    "классифицированы как не \"yes\" (ложноотрицательные классификации\n",
    "(false negative - FN) ), в то время как оставшиеся 770 были корректно классифицированы\n",
    "как \"yes\" (истинно положительные классификации ( true\n",
    "positive - ТР)). Безупречный классификатор имел бы только истинно положительные\n",
    "и истинно отрицательные классификации, так что его матрица\n",
    "неточностей содержала бы ненулевые значения только на своей главной диагонали\n",
    "(от левого верхнего до правого нижнего угла)"
   ]
  },
  {
   "attachments": {
    "image.png": {
     "image/png": "[encoded data removed]"
    }
   },
   "cell_type": "markdown",
   "metadata": {},
   "source": [
    "![image.png](attachment:image.png)"
   ]
  },
  {
   "cell_type": "code",
   "execution_count": 1149,
   "metadata": {},
   "outputs": [
    {
     "data": {
      "text/plain": [
       "array([[ 30,   0],\n",
       "       [  0, 770]], dtype=int64)"
      ]
     },
     "execution_count": 1149,
     "metadata": {},
     "output_type": "execute_result"
    }
   ],
   "source": [
    "from sklearn.metrics import confusion_matrix\n",
    "confusion_matrix(y_train, y_pred)\n",
    "conf_mx = confusion_matrix(y_train, y_pred) #посылаем предсказанные значения и истинные\n",
    "conf_mx"
   ]
  },
  {
   "cell_type": "code",
   "execution_count": 1150,
   "metadata": {},
   "outputs": [
    {
     "data": {
      "image/png": "[encoded data removed]",
      "text/plain": [
       "<Figure size 288x288 with 1 Axes>"
      ]
     },
     "metadata": {
      "needs_background": "light"
     },
     "output_type": "display_data"
    }
   ],
   "source": [
    "plt.matshow(conf_mx, cmap=plt.cm.Blues) #метод для отображения матрицы (можно указать более пдходящий стиль)\n",
    "#save_fig(\"confusion_matrix_plot\", tight_layout=False)\n",
    "plt.show() #выведем матрицу на экран"
   ]
  },
  {
   "cell_type": "markdown",
   "metadata": {},
   "source": [
    "Можем пронаблюдать, что главная диагональ матрицы четко выделяется. На остальных позициях стоят 0, следовательно метод работает идельно.Может ли быть такое? Есть подозрения на переобучение модели. Это происходит из-за того что алгоритмы деревьев решения не ошибаются на тренировочных данных. Варианты исправления: Использовать cross_val_predict"
   ]
  },
  {
   "cell_type": "markdown",
   "metadata": {},
   "source": [
    "### DecisionTreeClassifier"
   ]
  },
  {
   "cell_type": "markdown",
   "metadata": {},
   "source": [
    "Применим все те же методы fit и predict теперь для DecisionTreeClassifier"
   ]
  },
  {
   "cell_type": "code",
   "execution_count": 1151,
   "metadata": {},
   "outputs": [
    {
     "name": "stdout",
     "output_type": "stream",
     "text": [
      "Суммы оценок DecisionTree: [0.95   0.925  0.875  0.9625 0.9125 0.925  0.95   0.925  0.9625 0.875 ]; Среднее: 0.9262499999999999\n"
     ]
    }
   ],
   "source": [
    "from sklearn.tree import DecisionTreeClassifier\n",
    "Tree_clf = DecisionTreeClassifier(random_state=42)\n",
    "Tree_clf.fit(X_train, y_train)\n",
    "score = cross_val_score(Tree_clf, X_train, y_train, cv=10, scoring=\"accuracy\") #рассмотрим оценку модели,которая разбивает данные на cv блоков\n",
    "print(\"Суммы оценок DecisionTree: {}; Среднее: {}\".format(score, np.mean(score)))"
   ]
  },
  {
   "cell_type": "code",
   "execution_count": 1152,
   "metadata": {},
   "outputs": [],
   "source": [
    "#y_pred = Tree_clf.predict(X_train)\n",
    "y_pred=cross_val_predict(Tree_clf, X_train, y_train, cv=10)"
   ]
  },
  {
   "cell_type": "code",
   "execution_count": 1153,
   "metadata": {},
   "outputs": [
    {
     "data": {
      "text/plain": [
       "array([[  6,  24],\n",
       "       [ 35, 735]], dtype=int64)"
      ]
     },
     "execution_count": 1153,
     "metadata": {},
     "output_type": "execute_result"
    }
   ],
   "source": [
    "confusion_matrix(y_train, y_pred)\n",
    "conf_mx = confusion_matrix(y_train, y_pred)\n",
    "conf_mx"
   ]
  },
  {
   "cell_type": "code",
   "execution_count": 1154,
   "metadata": {},
   "outputs": [
    {
     "data": {
      "image/png": "[encoded data removed]",
      "text/plain": [
       "<Figure size 288x288 with 1 Axes>"
      ]
     },
     "metadata": {
      "needs_background": "light"
     },
     "output_type": "display_data"
    }
   ],
   "source": [
    "plt.matshow(conf_mx, cmap=plt.cm.Blues) #метод для отображения матрицы (можно указать более пдходящий стиль)\n",
    "#save_fig(\"confusion_matrix_plot\", tight_layout=False)\n",
    "plt.show() #выведем матрицу на экран"
   ]
  },
  {
   "cell_type": "markdown",
   "metadata": {},
   "source": [
    "Теперь видим совершенно другую картину. Алгоритм выполняется достаточно плохо, много falsepositive срабатываний. Скорее всего это происходит из-за того, что датасет не сбалансирован, относительно предсказываемого признака."
   ]
  },
  {
   "cell_type": "markdown",
   "metadata": {},
   "source": [
    "### KNeighborsClassifier"
   ]
  },
  {
   "cell_type": "markdown",
   "metadata": {},
   "source": [
    "Рассмотрим KNeighborsClassifier"
   ]
  },
  {
   "cell_type": "code",
   "execution_count": 1155,
   "metadata": {},
   "outputs": [
    {
     "name": "stdout",
     "output_type": "stream",
     "text": [
      "Суммы оценок KN_clf с 1 соседями : [0.9425 0.9225]; Среднее: 0.9325\n",
      "Суммы оценок KN_clf с 2 соседями : [0.915  0.8975]; Среднее: 0.90625\n",
      "Суммы оценок KN_clf с 3 соседями : [0.9575 0.96  ]; Среднее: 0.95875\n",
      "Суммы оценок KN_clf с 4 соседями : [0.9525 0.96  ]; Среднее: 0.95625\n",
      "Суммы оценок KN_clf с 5 соседями : [0.96   0.9625]; Среднее: 0.9612499999999999\n",
      "Суммы оценок KN_clf с 6 соседями : [0.955  0.9625]; Среднее: 0.95875\n",
      "Суммы оценок KN_clf с 7 соседями : [0.96   0.9625]; Среднее: 0.9612499999999999\n",
      "Суммы оценок KN_clf с 8 соседями : [0.955  0.9625]; Среднее: 0.95875\n",
      "Суммы оценок KN_clf с 9 соседями : [0.9625 0.9625]; Среднее: 0.9625\n"
     ]
    }
   ],
   "source": [
    "from sklearn.neighbors import KNeighborsClassifier\n",
    "#попробуем модель при разных значениях кол-во соседей\n",
    "for n_neighbors in range (1, 10): \n",
    "    KN_clf = KNeighborsClassifier(n_neighbors,algorithm='brute')\n",
    "    KN_clf.fit(X_train, y_train)\n",
    "    score = cross_val_score(KN_clf, X_train, y_train, cv=2, scoring=\"accuracy\")\n",
    "    print(\"Суммы оценок KN_clf с {} соседями : {}; Среднее: {}\".format(n_neighbors, score, np.mean(score)))"
   ]
  },
  {
   "cell_type": "code",
   "execution_count": 1156,
   "metadata": {},
   "outputs": [],
   "source": [
    "KN_clf = KNeighborsClassifier(2,algorithm='brute') #загрузим модель с 2 соседями (это оптимальный вариант)\n",
    "KN_clf.fit(X_train, y_train) #обучим модель\n",
    "y_pred = KN_clf.predict(X_train)\n",
    "#y_pred=cross_val_predict(KN_clf, X_train, y_train, cv=3)\n",
    "#y_pred"
   ]
  },
  {
   "cell_type": "code",
   "execution_count": 1157,
   "metadata": {},
   "outputs": [
    {
     "data": {
      "text/plain": [
       "array([[ 30,   0],\n",
       "       [ 29, 741]], dtype=int64)"
      ]
     },
     "execution_count": 1157,
     "metadata": {},
     "output_type": "execute_result"
    }
   ],
   "source": [
    "confusion_matrix(y_train, y_pred)\n",
    "conf_mx = confusion_matrix(y_train, y_pred)\n",
    "conf_mx"
   ]
  },
  {
   "cell_type": "code",
   "execution_count": 1158,
   "metadata": {},
   "outputs": [
    {
     "data": {
      "image/png": "[encoded data removed]",
      "text/plain": [
       "<Figure size 288x288 with 1 Axes>"
      ]
     },
     "metadata": {
      "needs_background": "light"
     },
     "output_type": "display_data"
    }
   ],
   "source": [
    "plt.matshow(conf_mx, cmap=plt.cm.Blues)\n",
    "#save_fig(\"confusion_matrix_plot\", tight_layout=False)\n",
    "plt.show()"
   ]
  },
  {
   "cell_type": "markdown",
   "metadata": {},
   "source": [
    "Судя по матрице неточностей можем сделать вывод о том, что алгоритм работает несколько лучше чем случайный лес (можно еще немного улучшить модель, меняя количество соседей и используя predict())."
   ]
  },
  {
   "cell_type": "markdown",
   "metadata": {},
   "source": [
    "### GaussianProcessClassifier"
   ]
  },
  {
   "cell_type": "code",
   "execution_count": 1159,
   "metadata": {},
   "outputs": [
    {
     "name": "stdout",
     "output_type": "stream",
     "text": [
      "Суммы оценок GaussianProcess: [0.9625 0.9625]; Среднее: 0.9625\n"
     ]
    }
   ],
   "source": [
    "from sklearn.gaussian_process import GaussianProcessClassifier\n",
    "clf_gpc = GaussianProcessClassifier(random_state=42).fit(X_train, y_train)\n",
    "score = cross_val_score(clf_gpc, X_train, y_train, cv=2, scoring=\"accuracy\")\n",
    "print(\"Суммы оценок GaussianProcess: {}; Среднее: {}\".format( score, np.mean(score)))"
   ]
  },
  {
   "cell_type": "code",
   "execution_count": 1160,
   "metadata": {},
   "outputs": [],
   "source": [
    "#y_pred = clf_gpc.predict(X_train)\n",
    "y_pred=cross_val_predict(clf_gpc, X_train, y_train, cv=2)"
   ]
  },
  {
   "cell_type": "code",
   "execution_count": 1161,
   "metadata": {},
   "outputs": [
    {
     "data": {
      "text/plain": [
       "array([[  0,  30],\n",
       "       [  0, 770]], dtype=int64)"
      ]
     },
     "execution_count": 1161,
     "metadata": {},
     "output_type": "execute_result"
    }
   ],
   "source": [
    "confusion_matrix(y_train, y_pred)\n",
    "conf_mx = confusion_matrix(y_train, y_pred)\n",
    "conf_mx"
   ]
  },
  {
   "cell_type": "code",
   "execution_count": 1162,
   "metadata": {},
   "outputs": [
    {
     "data": {
      "image/png": "[encoded data removed]",
      "text/plain": [
       "<Figure size 288x288 with 1 Axes>"
      ]
     },
     "metadata": {
      "needs_background": "light"
     },
     "output_type": "display_data"
    }
   ],
   "source": [
    "plt.matshow(conf_mx, cmap=plt.cm.Blues)\n",
    "#save_fig(\"confusion_matrix_plot\", tight_layout=False)\n",
    "plt.show()"
   ]
  },
  {
   "cell_type": "markdown",
   "metadata": {},
   "source": [
    "Можно заметить, что алгоритм работает плохо много ошибок FalsePositive"
   ]
  },
  {
   "cell_type": "markdown",
   "metadata": {},
   "source": [
    "### GradientBoostingClassifier"
   ]
  },
  {
   "cell_type": "code",
   "execution_count": 1163,
   "metadata": {},
   "outputs": [
    {
     "name": "stdout",
     "output_type": "stream",
     "text": [
      "Суммы оценок GradientBoosting: [0.9525 0.9525]; Среднее: 0.9525\n"
     ]
    }
   ],
   "source": [
    "from sklearn.ensemble import GradientBoostingClassifier\n",
    "\n",
    "grad_boost = GradientBoostingClassifier().fit(X_train, y_train)\n",
    "score = cross_val_score(grad_boost, X_train, y_train, cv=2, scoring=\"accuracy\")\n",
    "print(\"Суммы оценок GradientBoosting: {}; Среднее: {}\".format(score, np.mean(score)))"
   ]
  },
  {
   "cell_type": "code",
   "execution_count": 1164,
   "metadata": {},
   "outputs": [],
   "source": [
    "y_pred = grad_boost.predict(X_train)\n",
    "#y_pred=cross_val_predict(grad_boost, X_train, y_train, cv=2)"
   ]
  },
  {
   "cell_type": "code",
   "execution_count": 1165,
   "metadata": {},
   "outputs": [
    {
     "data": {
      "text/plain": [
       "array([[ 24,   6],\n",
       "       [  0, 770]], dtype=int64)"
      ]
     },
     "execution_count": 1165,
     "metadata": {},
     "output_type": "execute_result"
    }
   ],
   "source": [
    "confusion_matrix(y_train, y_pred)\n",
    "conf_mx = confusion_matrix(y_train, y_pred)\n",
    "conf_mx"
   ]
  },
  {
   "cell_type": "code",
   "execution_count": 1166,
   "metadata": {},
   "outputs": [
    {
     "data": {
      "image/png": "[encoded data removed]",
      "text/plain": [
       "<Figure size 288x288 with 1 Axes>"
      ]
     },
     "metadata": {
      "needs_background": "light"
     },
     "output_type": "display_data"
    }
   ],
   "source": [
    "plt.matshow(conf_mx, cmap=plt.cm.Blues)\n",
    "#save_fig(\"confusion_matrix_plot\", tight_layout=False)\n",
    "plt.show()"
   ]
  },
  {
   "cell_type": "markdown",
   "metadata": {},
   "source": [
    "Заметим,что градиентный бустинг работает вполне неплохо"
   ]
  },
  {
   "cell_type": "markdown",
   "metadata": {},
   "source": [
    "## Полнота и точность (Precision/recall tradeoff)"
   ]
  },
  {
   "attachments": {
    "image.png": {
     "image/png": "[encoded data removed]"
    }
   },
   "cell_type": "markdown",
   "metadata": {},
   "source": [
    "Рассмотри такое понятие как соотношение точность/полнота. Точность (precision) и полнота (recall) являются метриками,\n",
    "которые используются при оценке большей части алгоритмов машинного обучения.\n",
    "Полнота и точность описываются следующими формулами:\n",
    "    ![image.png](attachment:image.png)"
   ]
  },
  {
   "cell_type": "markdown",
   "metadata": {},
   "source": [
    "Где, \n",
    "**TP**-истинно-положительное решение\n",
    "     \n",
    "    \n",
    "   "
   ]
  },
  {
   "cell_type": "markdown",
   "metadata": {},
   "source": [
    "**TN**-истинно-отрицательное решение"
   ]
  },
  {
   "cell_type": "markdown",
   "metadata": {},
   "source": [
    "**FP**-ложно-положительное решение"
   ]
  },
  {
   "cell_type": "markdown",
   "metadata": {},
   "source": [
    "**FN**-ложно-отрицательное решение"
   ]
  },
  {
   "cell_type": "markdown",
   "metadata": {},
   "source": [
    "Соотношение точности и полноты по сути показывают нам, на сколько мы будем больше охватывать нужных нам меток, жертвуя при этом точностью\n",
    "прогноза (будет некоторое количество ложных прогнозов), или же наоборот на сколько точнее будет работать алгоритм (все метки будут определены правильно),\n",
    "но при этом будут упущены верные метки, которые остались вне внимания метода машинного обучения"
   ]
  },
  {
   "attachments": {
    "image.png": {
     "image/png": "[encoded data removed]"
    }
   },
   "cell_type": "markdown",
   "metadata": {},
   "source": [
    "Как правило, нельзя напрямую влиять на значения точности и полноты. Это можно делать с помощью такого понятия, как порог(threshold). Визуализация вышесказанного:\n",
    "![image.png](attachment:image.png)"
   ]
  },
  {
   "cell_type": "markdown",
   "metadata": {},
   "source": [
    "При поднятии порога  ложноположительная\n",
    "классификация  становится истинно отрицательной,\n",
    "увеличивая тем самым точность (вплоть до 100% в данном случае),\n",
    "но одна истинно положительная классификация становится ложноотрицательной,\n",
    "снижая полноту до 60%. И наоборот, снижение порога увеличивает\n",
    "полноту и сокращает точность."
   ]
  },
  {
   "cell_type": "markdown",
   "metadata": {},
   "source": [
    "### RandomForestClassifier"
   ]
  },
  {
   "cell_type": "code",
   "execution_count": 1167,
   "metadata": {},
   "outputs": [],
   "source": [
    "from sklearn.metrics import precision_score, recall_score, f1_score"
   ]
  },
  {
   "cell_type": "code",
   "execution_count": 1168,
   "metadata": {},
   "outputs": [
    {
     "data": {
      "text/plain": [
       "array([[0.04, 0.96],\n",
       "       [0.  , 1.  ],\n",
       "       [0.02, 0.98],\n",
       "       ...,\n",
       "       [0.01, 0.99],\n",
       "       [0.07, 0.93],\n",
       "       [0.  , 1.  ]])"
      ]
     },
     "execution_count": 1168,
     "metadata": {},
     "output_type": "execute_result"
    }
   ],
   "source": [
    "forest_clf = RandomForestClassifier(random_state = 42)\n",
    "y_probas_forest = cross_val_predict(forest_clf, X_train, y_train, cv = 3, method = \"predict_proba\")\n",
    "y_probas_forest\n"
   ]
  },
  {
   "cell_type": "code",
   "execution_count": 1169,
   "metadata": {},
   "outputs": [],
   "source": [
    "y_pred = cross_val_predict(forest_clf, X_train, y_train, cv=3)"
   ]
  },
  {
   "cell_type": "code",
   "execution_count": 1170,
   "metadata": {},
   "outputs": [
    {
     "name": "stdout",
     "output_type": "stream",
     "text": [
      "Precision score: 0.9625\n",
      "Recall score: 1.0\n",
      "F1 score: 0.980891719745223\n"
     ]
    }
   ],
   "source": [
    "from sklearn.metrics import precision_score, recall_score, f1_score\n",
    "\n",
    "print(\"Precision score: {}\\nRecall score: {}\\nF1 score: {}\".format(precision_score(y_train, y_pred), \n",
    "                                                                   recall_score(y_train, y_pred), \n",
    "                                                                   f1_score(y_train, y_pred)\n",
    "                                                                  ))"
   ]
  },
  {
   "cell_type": "code",
   "execution_count": 1171,
   "metadata": {},
   "outputs": [
    {
     "data": {
      "image/png": "[encoded data removed]",
      "text/plain": [
       "<Figure size 720x504 with 1 Axes>"
      ]
     },
     "metadata": {
      "needs_background": "light"
     },
     "output_type": "display_data"
    }
   ],
   "source": [
    "y_scores_forest = y_probas_forest[:, 1]\n",
    "precisions_forest, recalls_forest, thresholds_forest = precision_recall_curve(y_train, y_scores_forest)\n",
    "plot_precision_recall_vs_threshold(precisions_forest, recalls_forest, thresholds_forest)\n",
    "plt.show()\n",
    "\n",
    "#Looks way better"
   ]
  },
  {
   "cell_type": "markdown",
   "metadata": {},
   "source": [
    "### DecisionTreeClassifier"
   ]
  },
  {
   "cell_type": "code",
   "execution_count": 1172,
   "metadata": {},
   "outputs": [
    {
     "data": {
      "text/plain": [
       "array([[0.04, 0.96],\n",
       "       [0.  , 1.  ],\n",
       "       [0.02, 0.98],\n",
       "       ...,\n",
       "       [0.01, 0.99],\n",
       "       [0.07, 0.93],\n",
       "       [0.  , 1.  ]])"
      ]
     },
     "execution_count": 1172,
     "metadata": {},
     "output_type": "execute_result"
    }
   ],
   "source": [
    "Tree_clf = RandomForestClassifier(random_state = 42)\n",
    "y_probas_Tree = cross_val_predict(Tree_clf, X_train, y_train, cv = 3, method = \"predict_proba\")\n",
    "y_probas_Tree"
   ]
  },
  {
   "cell_type": "code",
   "execution_count": 1173,
   "metadata": {},
   "outputs": [],
   "source": [
    "y_pred = cross_val_predict(Tree_clf, X_train, y_train, cv=3)"
   ]
  },
  {
   "cell_type": "code",
   "execution_count": 1174,
   "metadata": {},
   "outputs": [
    {
     "name": "stdout",
     "output_type": "stream",
     "text": [
      "Precision score: 0.9625\n",
      "Recall score: 1.0\n",
      "F1 score: 0.980891719745223\n"
     ]
    }
   ],
   "source": [
    "from sklearn.metrics import precision_score, recall_score, f1_score\n",
    "\n",
    "print(\"Precision score: {}\\nRecall score: {}\\nF1 score: {}\".format(precision_score(y_train, y_pred), \n",
    "                                                                   recall_score(y_train, y_pred), \n",
    "                                                                   f1_score(y_train, y_pred)\n",
    "                                                                  ))"
   ]
  },
  {
   "cell_type": "code",
   "execution_count": 1175,
   "metadata": {},
   "outputs": [
    {
     "data": {
      "image/png": "[encoded data removed]",
      "text/plain": [
       "<Figure size 720x504 with 1 Axes>"
      ]
     },
     "metadata": {
      "needs_background": "light"
     },
     "output_type": "display_data"
    }
   ],
   "source": [
    "y_scores_Tree = y_probas_Tree[:, 1]\n",
    "precisions_Tree, recalls_Tree, thresholds_Tree = precision_recall_curve(y_train, y_scores_Tree)\n",
    "plot_precision_recall_vs_threshold(precisions_Tree, recalls_Tree, thresholds_Tree)\n",
    "plt.show()\n",
    "\n",
    "#Looks way better"
   ]
  },
  {
   "cell_type": "markdown",
   "metadata": {},
   "source": [
    "### KNeighborsClassifier"
   ]
  },
  {
   "cell_type": "code",
   "execution_count": 1176,
   "metadata": {},
   "outputs": [],
   "source": [
    "KN_clf = KNeighborsClassifier(2,algorithm='brute')\n",
    "y_probas_KN = cross_val_predict(KN_clf, X_train, y_train, cv = 3, method = \"predict_proba\")\n",
    "#y_probas_KN"
   ]
  },
  {
   "cell_type": "code",
   "execution_count": 1177,
   "metadata": {},
   "outputs": [],
   "source": [
    "y_pred = cross_val_predict(KN_clf, X_train, y_train, cv=3)"
   ]
  },
  {
   "cell_type": "code",
   "execution_count": 1178,
   "metadata": {},
   "outputs": [
    {
     "name": "stdout",
     "output_type": "stream",
     "text": [
      "Precision score: 0.9731182795698925\n",
      "Recall score: 0.9402597402597402\n",
      "F1 score: 0.9564068692206076\n"
     ]
    }
   ],
   "source": [
    "from sklearn.metrics import precision_score, recall_score, f1_score\n",
    "\n",
    "print(\"Precision score: {}\\nRecall score: {}\\nF1 score: {}\".format(precision_score(y_train, y_pred), \n",
    "                                                                   recall_score(y_train, y_pred), \n",
    "                                                                   f1_score(y_train, y_pred)\n",
    "                                                                  ))"
   ]
  },
  {
   "cell_type": "code",
   "execution_count": 1179,
   "metadata": {},
   "outputs": [
    {
     "data": {
      "image/png": "[encoded data removed]",
      "text/plain": [
       "<Figure size 720x504 with 1 Axes>"
      ]
     },
     "metadata": {
      "needs_background": "light"
     },
     "output_type": "display_data"
    }
   ],
   "source": [
    "from sklearn.metrics import precision_recall_curve\n",
    "\n",
    "precisions, recalls, thresholds = precision_recall_curve(y_train, y_scores)\n",
    "\n",
    "def plot_precision_recall_vs_threshold(precisions, recalls, thresholds):\n",
    "    fig = plt.figure(figsize=(10, 7))\n",
    "    plt.plot(thresholds, precisions[:-1], \"b--\", label=\"Precision\")\n",
    "    plt.plot(thresholds, recalls[:-1], \"g-\", label=\"Recall\")\n",
    "    plt.xlabel(\"Threshold\")\n",
    "    plt.legend(loc = 'best')\n",
    "    plt.grid()\n",
    "    \n",
    "plot_precision_recall_vs_threshold(precisions, recalls, thresholds)\n",
    "plt.show()\n",
    "\n",
    "#Doesn't look promising ngl"
   ]
  },
  {
   "cell_type": "markdown",
   "metadata": {},
   "source": [
    "### GaussianProcessClassifier"
   ]
  },
  {
   "cell_type": "code",
   "execution_count": 1180,
   "metadata": {},
   "outputs": [
    {
     "data": {
      "text/plain": [
       "array([[0.35113446, 0.64886554],\n",
       "       [0.30103881, 0.69896119],\n",
       "       [0.32792359, 0.67207641],\n",
       "       ...,\n",
       "       [0.20412416, 0.79587584],\n",
       "       [0.38276568, 0.61723432],\n",
       "       [0.26864792, 0.73135208]])"
      ]
     },
     "execution_count": 1180,
     "metadata": {},
     "output_type": "execute_result"
    }
   ],
   "source": [
    "clf_gpc = GaussianProcessClassifier(random_state=42)\n",
    "y_probas_gpc= cross_val_predict(clf_gpc, X_train, y_train, cv = 3, method = \"predict_proba\")\n",
    "y_probas_gpc "
   ]
  },
  {
   "cell_type": "code",
   "execution_count": 1181,
   "metadata": {},
   "outputs": [],
   "source": [
    "y_pred = cross_val_predict(clf_gpc, X_train, y_train, cv=3)"
   ]
  },
  {
   "cell_type": "code",
   "execution_count": 1182,
   "metadata": {},
   "outputs": [
    {
     "name": "stdout",
     "output_type": "stream",
     "text": [
      "Precision score: 0.9625\n",
      "Recall score: 1.0\n",
      "F1 score: 0.980891719745223\n"
     ]
    }
   ],
   "source": [
    "from sklearn.metrics import precision_score, recall_score, f1_score\n",
    "\n",
    "print(\"Precision score: {}\\nRecall score: {}\\nF1 score: {}\".format(precision_score(y_train, y_pred), \n",
    "                                                                   recall_score(y_train, y_pred), \n",
    "                                                                   f1_score(y_train, y_pred)\n",
    "                                                                  ))"
   ]
  },
  {
   "cell_type": "code",
   "execution_count": 1183,
   "metadata": {},
   "outputs": [
    {
     "data": {
      "image/png": "[encoded data removed]",
      "text/plain": [
       "<Figure size 720x504 with 1 Axes>"
      ]
     },
     "metadata": {
      "needs_background": "light"
     },
     "output_type": "display_data"
    }
   ],
   "source": [
    "y_scores_gpc = y_probas_gpc[:, 1]\n",
    "precisions_gpc, recalls_gpc, thresholds_gpc = precision_recall_curve(y_train, y_scores_gpc)\n",
    "plot_precision_recall_vs_threshold(precisions_gpc, recalls_gpc, thresholds_gpc)\n",
    "plt.show()\n",
    "\n",
    "#Looks way better"
   ]
  },
  {
   "cell_type": "markdown",
   "metadata": {},
   "source": [
    "### GradientBoostingClassifier"
   ]
  },
  {
   "cell_type": "markdown",
   "metadata": {},
   "source": [
    "Чтобы понять, какой порог использовать нужно получить суммы очков всех образцов в обучающем наборе.\n",
    "Применим функцию cross_val_predict(),но на этот раз с указанием того, что вмес-\n",
    "то прогнозов она должна возвратить суммы очков, управляющие решением:"
   ]
  },
  {
   "cell_type": "code",
   "execution_count": 1184,
   "metadata": {},
   "outputs": [],
   "source": [
    "y_scores = cross_val_predict(grad_boost, X_train, y_train, cv=3, method=\"decision_function\")"
   ]
  },
  {
   "cell_type": "code",
   "execution_count": 1185,
   "metadata": {},
   "outputs": [
    {
     "name": "stdout",
     "output_type": "stream",
     "text": [
      "Precision score: 0.9922680412371134\n",
      "Recall score: 1.0\n",
      "F1 score: 0.9961190168175938\n"
     ]
    }
   ],
   "source": [
    "#y_pred = cross_val_predict(grad_boost, X_train, y_train, cv=3)\n",
    "y_pred = grad_boost.predict(X_train)\n",
    "print(\"Precision score: {}\\nRecall score: {}\\nF1 score: {}\".format(precision_score(y_train, y_pred), \n",
    "                                                                   recall_score(y_train, y_pred), \n",
    "                                                                   f1_score(y_train, y_pred)\n",
    "                                                                  ))"
   ]
  },
  {
   "cell_type": "markdown",
   "metadata": {},
   "source": [
    "Теперь с помощью сумм очков можно вычислить точность и полноту для всех\n",
    "возможных порогов, используя функцию precision_recall_curve():"
   ]
  },
  {
   "cell_type": "code",
   "execution_count": 1186,
   "metadata": {},
   "outputs": [
    {
     "data": {
      "image/png": "[encoded data removed]",
      "text/plain": [
       "<Figure size 720x504 with 1 Axes>"
      ]
     },
     "metadata": {
      "needs_background": "light"
     },
     "output_type": "display_data"
    }
   ],
   "source": [
    "from sklearn.metrics import precision_recall_curve\n",
    "\n",
    "precisions, recalls, thresholds = precision_recall_curve(y_train, y_scores)\n",
    "\n",
    "def plot_precision_recall_vs_threshold(precisions, recalls, thresholds):\n",
    "    fig = plt.figure(figsize=(10, 7))\n",
    "    plt.plot(thresholds, precisions[:-1], \"b--\", label=\"Precision\")\n",
    "    plt.plot(thresholds, recalls[:-1], \"g-\", label=\"Recall\")\n",
    "    plt.xlabel(\"Threshold\")\n",
    "    plt.legend(loc = 'best')\n",
    "    plt.grid()\n",
    "    \n",
    "plot_precision_recall_vs_threshold(precisions, recalls, thresholds)\n",
    "plt.show()\n",
    "\n",
    "#Doesn't look promising ngl"
   ]
  },
  {
   "cell_type": "markdown",
   "metadata": {},
   "source": [
    "# Результаты модели"
   ]
  },
  {
   "cell_type": "markdown",
   "metadata": {},
   "source": [
    "Проверим результат работы программа на тестовых данных"
   ]
  },
  {
   "cell_type": "code",
   "execution_count": 1187,
   "metadata": {},
   "outputs": [],
   "source": [
    "from sklearn.metrics import accuracy_score"
   ]
  },
  {
   "cell_type": "markdown",
   "metadata": {},
   "source": [
    "## Score"
   ]
  },
  {
   "cell_type": "markdown",
   "metadata": {},
   "source": [
    "**RandomForestClassifier**"
   ]
  },
  {
   "cell_type": "code",
   "execution_count": 1188,
   "metadata": {},
   "outputs": [
    {
     "name": "stdout",
     "output_type": "stream",
     "text": [
      "RandomForestClassifier final score: 0.965\n"
     ]
    }
   ],
   "source": [
    "forest_clf=RandomForestClassifier(random_state = 42) #получение модели\n",
    "forest_clf.fit(X_train, y_train) #применение метода fit , то есть загрузили данные для обучения\n",
    "y_final = forest_clf.predict(X_test)\n",
    "final_score = accuracy_score(y_test, y_final)\n",
    "print(\"{} final score: {}\".format(\"RandomForestClassifier\", final_score))"
   ]
  },
  {
   "cell_type": "markdown",
   "metadata": {},
   "source": [
    "**DecisionTreeClassifier**"
   ]
  },
  {
   "cell_type": "code",
   "execution_count": 1189,
   "metadata": {},
   "outputs": [
    {
     "name": "stdout",
     "output_type": "stream",
     "text": [
      "DecisionTreeClassifier final score: 0.94\n"
     ]
    }
   ],
   "source": [
    "Tree_clf = DecisionTreeClassifier(random_state=42)\n",
    "Tree_clf.fit(X_train, y_train)\n",
    "y_final = Tree_clf.predict(X_test)\n",
    "final_score = accuracy_score(y_test, y_final)\n",
    "print(\"{} final score: {}\".format(\"DecisionTreeClassifier\", final_score))"
   ]
  },
  {
   "cell_type": "markdown",
   "metadata": {},
   "source": [
    "**KNeighborsClassifier**"
   ]
  },
  {
   "cell_type": "code",
   "execution_count": 1190,
   "metadata": {},
   "outputs": [
    {
     "name": "stdout",
     "output_type": "stream",
     "text": [
      "KNeighborsClassifier final score: 0.895\n"
     ]
    }
   ],
   "source": [
    "KN_clf = KNeighborsClassifier(2,algorithm='brute') #загрузим модель с 2 соседями (это оптимальный вариант)\n",
    "KN_clf.fit(X_train, y_train) #обучим модель\n",
    "y_final = KN_clf.predict(X_test)\n",
    "final_score = accuracy_score(y_test, y_final)\n",
    "print(\"{} final score: {}\".format(\"KNeighborsClassifier\", final_score))"
   ]
  },
  {
   "cell_type": "markdown",
   "metadata": {},
   "source": [
    "**GaussianProcessClassifier**"
   ]
  },
  {
   "cell_type": "code",
   "execution_count": 1191,
   "metadata": {},
   "outputs": [
    {
     "name": "stdout",
     "output_type": "stream",
     "text": [
      "GaussianProcessClassifier final score: 0.965\n"
     ]
    }
   ],
   "source": [
    "clf_gpc = GaussianProcessClassifier(random_state=42).fit(X_train, y_train)\n",
    "y_final = clf_gpc.predict(X_test)\n",
    "final_score = accuracy_score(y_test, y_final)\n",
    "print(\"{} final score: {}\".format(\"GaussianProcessClassifier\", final_score))"
   ]
  },
  {
   "cell_type": "markdown",
   "metadata": {},
   "source": [
    "**GradientBoostingClassifier**"
   ]
  },
  {
   "cell_type": "code",
   "execution_count": 1192,
   "metadata": {},
   "outputs": [
    {
     "name": "stdout",
     "output_type": "stream",
     "text": [
      "GradientBoostingClassifier final score: 0.965\n"
     ]
    }
   ],
   "source": [
    "grad_boost = GradientBoostingClassifier().fit(X_train, y_train)\n",
    "y_final = grad_boost.predict(X_test)\n",
    "final_score = accuracy_score(y_test, y_final)\n",
    "print(\"{} final score: {}\".format(\"GradientBoostingClassifier\", final_score))"
   ]
  },
  {
   "cell_type": "markdown",
   "metadata": {},
   "source": [
    "Стоит отметить хорошую работу всех алгоритмов МО, но точнее всех без выполняются GaussianProcessClassifier, GradientBoostingClassifier и Random Forest."
   ]
  },
  {
   "cell_type": "markdown",
   "metadata": {},
   "source": [
    "## Presicion/recall"
   ]
  },
  {
   "cell_type": "markdown",
   "metadata": {},
   "source": [
    "Анализ полноты и точности разных алгоритмов машинного обучения."
   ]
  },
  {
   "cell_type": "code",
   "execution_count": 1193,
   "metadata": {},
   "outputs": [],
   "source": [
    "def predict_by_proba(X, model, threshold):\n",
    "    y_probas = model.predict_proba(X)\n",
    "    y_scores = y_probas[:, 1]\n",
    "    y_pred = (y_scores >= threshold)\n",
    "    return y_pred"
   ]
  },
  {
   "cell_type": "code",
   "execution_count": 1194,
   "metadata": {},
   "outputs": [],
   "source": [
    "def predict_by_decision_func(X, model, threshold):\n",
    "    y_scores = model.decision_function(X)\n",
    "    y_pred = (y_scores >= threshold)\n",
    "    return y_pred"
   ]
  },
  {
   "cell_type": "code",
   "execution_count": 1195,
   "metadata": {},
   "outputs": [],
   "source": [
    "#нужно поместить только лучшую модель"
   ]
  },
  {
   "cell_type": "markdown",
   "metadata": {},
   "source": [
    "**Random Forest**"
   ]
  },
  {
   "cell_type": "code",
   "execution_count": 1196,
   "metadata": {},
   "outputs": [
    {
     "name": "stdout",
     "output_type": "stream",
     "text": [
      "For Random Forest:\n",
      "Precision score: 0.965\n",
      "Recall score: 1.0\n",
      "F1 score: 0.9821882951653944\n"
     ]
    }
   ],
   "source": [
    "forest_clf.fit(X_train, y_train)\n",
    "y_test_pred_forest = predict_by_proba(X_test, forest_clf,threshold=0.5)\n",
    "print(\"For Random Forest:\\nPrecision score: {}\\nRecall score: {}\\nF1 score: {}\".format(precision_score(y_test, y_test_pred_forest), \n",
    "                                                                   recall_score(y_test, y_test_pred_forest), \n",
    "                                                                   f1_score(y_test, y_test_pred_forest)\n",
    "                                                                  ))"
   ]
  },
  {
   "cell_type": "markdown",
   "metadata": {},
   "source": [
    "**Decision Tree**"
   ]
  },
  {
   "cell_type": "code",
   "execution_count": 1197,
   "metadata": {},
   "outputs": [
    {
     "name": "stdout",
     "output_type": "stream",
     "text": [
      "For Decision Tree:\n",
      "Precision score: 0.9689119170984456\n",
      "Recall score: 0.9689119170984456\n",
      "F1 score: 0.9689119170984456\n"
     ]
    }
   ],
   "source": [
    "Tree_clf.fit(X_train, y_train)\n",
    "y_test_pred_Tree_clf = predict_by_proba(X_test, Tree_clf,threshold=1)\n",
    "print(\"For Decision Tree:\\nPrecision score: {}\\nRecall score: {}\\nF1 score: {}\".format(precision_score(y_test,y_test_pred_Tree_clf), \n",
    "                                                                   recall_score(y_test, y_test_pred_Tree_clf), \n",
    "                                                                   f1_score(y_test, y_test_pred_Tree_clf)\n",
    "                                                                  ))"
   ]
  },
  {
   "cell_type": "markdown",
   "metadata": {},
   "source": [
    "**KNeighborsClassifie**"
   ]
  },
  {
   "cell_type": "code",
   "execution_count": 1198,
   "metadata": {},
   "outputs": [
    {
     "name": "stdout",
     "output_type": "stream",
     "text": [
      "For KNeighborsClassifie:\n",
      "Precision score: 0.9725274725274725\n",
      "Recall score: 0.917098445595855\n",
      "F1 score: 0.9440000000000001\n"
     ]
    }
   ],
   "source": [
    "KN_clf.fit(X_train, y_train)\n",
    "y_test_pred_KN_clf = predict_by_proba(X_test, KN_clf,threshold=1)\n",
    "print(\"For KNeighborsClassifie:\\nPrecision score: {}\\nRecall score: {}\\nF1 score: {}\".format(precision_score(y_test, y_test_pred_KN_clf), \n",
    "                                                                   recall_score(y_test, y_test_pred_KN_clf), \n",
    "                                                                   f1_score(y_test, y_test_pred_KN_clf)\n",
    "                                                                  ))"
   ]
  },
  {
   "cell_type": "markdown",
   "metadata": {},
   "source": [
    "**GaussianProcessClassifier**"
   ]
  },
  {
   "cell_type": "code",
   "execution_count": 1199,
   "metadata": {},
   "outputs": [
    {
     "name": "stdout",
     "output_type": "stream",
     "text": [
      "For GaussianProcessClassifier:\n",
      "Precision score: 0.965\n",
      "Recall score: 1.0\n",
      "F1 score: 0.9821882951653944\n"
     ]
    }
   ],
   "source": [
    "clf_gpc.fit(X_train, y_train)\n",
    "y_test_pred_clf_gpc = predict_by_proba(X_test, clf_gpc,threshold=0.5)\n",
    "print(\"For GaussianProcessClassifier:\\nPrecision score: {}\\nRecall score: {}\\nF1 score: {}\".format(precision_score(y_test, y_test_pred_clf_gpc), \n",
    "                                                                   recall_score(y_test,y_test_pred_clf_gpc), \n",
    "                                                                   f1_score(y_test, y_test_pred_clf_gpc)\n",
    "                                                                  ))"
   ]
  },
  {
   "cell_type": "markdown",
   "metadata": {},
   "source": [
    "**GradientBoostingClassifier**"
   ]
  },
  {
   "cell_type": "code",
   "execution_count": 1200,
   "metadata": {},
   "outputs": [
    {
     "name": "stdout",
     "output_type": "stream",
     "text": [
      "For GradientBoostingClassifier:\n",
      "Precision score: 0.9696969696969697\n",
      "Recall score: 0.9948186528497409\n",
      "F1 score: 0.9820971867007673\n"
     ]
    }
   ],
   "source": [
    "grad_boost.fit(X_train, y_train)\n",
    "y_test_pred_grad_boost = predict_by_proba(X_test, grad_boost,threshold=0.5)\n",
    "print(\"For GradientBoostingClassifier:\\nPrecision score: {}\\nRecall score: {}\\nF1 score: {}\".format(precision_score(y_test, y_test_pred_grad_boost), \n",
    "                                                                   recall_score(y_test, y_test_pred_grad_boost), \n",
    "                                                                   f1_score(y_test, y_test_pred_grad_boost)\n",
    "                                                                  ))"
   ]
  },
  {
   "cell_type": "markdown",
   "metadata": {},
   "source": [
    "Стоит отметить хорошую работу всех алгоритмов МО, но точнее всех без потери полноты выполняются GaussianProcessClassifier и Random Forest."
   ]
  },
  {
   "cell_type": "markdown",
   "metadata": {},
   "source": [
    "# Elpigraph"
   ]
  },
  {
   "cell_type": "code",
   "execution_count": 1201,
   "metadata": {},
   "outputs": [],
   "source": [
    "import elpigraph\n",
    "\n",
    "from elpigraph.plot import PCA\n",
    "from matplotlib.colors import LinearSegmentedColormap\n",
    "\n",
    "#my_cmap = LinearSegmentedColormap.from_list('mycmap', ['black', 'white', 'black'])\n",
    "\n",
    "def ColoredPlotPG(\n",
    "    X, PG, \n",
    "    figsize=(15, 10), #figure settings\n",
    "    X_color=\"r\", X_cmap=\"hsv\",  X_alpha=0.6, #data points settings\n",
    "    node_color=\"black\", node_size=50, #nodes settings\n",
    "    edge_color=\"black\", edge_linewidth=2, edge_alpha=0.6, #edges settings\n",
    "    Do_PCA=True, DimToPlot=[0, 1],\n",
    "):\n",
    "\n",
    "    if Do_PCA:\n",
    "        # Perform PCA on the nodes\n",
    "        mv = PG[\"NodePositions\"].mean(axis=0)\n",
    "        data_centered = PG[\"NodePositions\"] - mv\n",
    "        vglobal, nodesp, explainedVariances = PCA(data_centered)\n",
    "        # Rotate the data using eigenvectors\n",
    "        BaseData = np.dot((X - mv), vglobal)\n",
    "        DataVarPerc = np.var(BaseData, axis=0) / np.sum(np.var(X, axis=0))\n",
    "\n",
    "    else:\n",
    "        nodesp = PG[\"NodePositions\"]\n",
    "        BaseData = X\n",
    "        DataVarPerc = np.var(X, axis=0) / np.sum(np.var(X, axis=0))\n",
    "\n",
    "    f, ax = plt.subplots(1, 1, figsize=figsize)\n",
    "    \n",
    "    # scatter data\n",
    "    if X_color is None:\n",
    "        X_color = \"r\" #Che eto za kostyl'?\n",
    "    ax.scatter(\n",
    "        BaseData[:, DimToPlot[0]], BaseData[:, DimToPlot[1]], c=X_color, cmap=X_cmap, alpha=X_alpha\n",
    "    )\n",
    "\n",
    "    # scatter nodes\n",
    "    ax.scatter(nodesp[:, DimToPlot[0]], nodesp[:, DimToPlot[1]], c=node_color, s=node_size)\n",
    "    \n",
    "    # plot edges\n",
    "    Edges = PG[\"Edges\"][0].T\n",
    "    for j in range(Edges.shape[1]):\n",
    "        x_coo = np.concatenate((nodesp[Edges[0, j], [0]], nodesp[Edges[1, j], [0]]))\n",
    "        y_coo = np.concatenate((nodesp[Edges[0, j], [1]], nodesp[Edges[1, j], [1]]))\n",
    "        ax.plot(x_coo, y_coo, c=edge_color, linewidth=edge_linewidth, alpha=edge_alpha)\n",
    "\n",
    "    #axises\n",
    "    if Do_PCA:\n",
    "        TarPGVarPerc = explainedVariances / explainedVariances.sum() * 100\n",
    "    else:\n",
    "        TarPGVarPerc = np.var(PG[\"NodePositions\"], axis=0) / np.sum(\n",
    "            np.var(PG[\"NodePositions\"], axis=0)\n",
    "        )\n",
    "    ax.set_xlabel(f\"PG % var: {TarPGVarPerc[DimToPlot[0]]:.2f}\")\n",
    "    ax.set_ylabel(f\"PG % var: {TarPGVarPerc[DimToPlot[1]]:.2f}\")\n",
    "    \n",
    "    mappable = ax.collections[0]\n",
    "    f.colorbar(mappable=mappable)\n",
    "    return plt"
   ]
  },
  {
   "cell_type": "code",
   "execution_count": 1219,
   "metadata": {},
   "outputs": [],
   "source": [
    "res = X_prep.append(X_prep_test)\n",
    "X_data = res.values"
   ]
  },
  {
   "cell_type": "code",
   "execution_count": 1215,
   "metadata": {},
   "outputs": [
    {
     "name": "stdout",
     "output_type": "stream",
     "text": [
      "Generating the initial configuration\n",
      "Creating a chain in the 1st PC with 2 nodes\n",
      "90% of the points have been used as initial conditions. Resetting.\n",
      "Constructing tree 1 of 1 / Subset 1 of 1\n",
      "Performing PCA\n",
      "Using standard PCA\n",
      "48 dimensions are being used\n",
      "100.0 % of the original variance has been retained\n",
      "The elastic matrix is being used. Edge configuration will be ignored\n",
      "Computing EPG with  60  nodes on  1000  points and  48  dimensions\n",
      "Nodes =  2 3 4 5 6 7 8 9 10 11 12 13 14 15 16 17 18 19 20 21 22 23 24 25 26 27 28 29 30 31 32 33 34 35 36 37 38 39 40 41 42 43 44 45 46 47 48 49 50 51 52 53 54 55 56 57 58 59 \n",
      "\n",
      "BARCODE\tENERGY\tNNODES\tNEDGES\tNRIBS\tNSTARS\tNRAYS\tNRAYS2\tMSE\tMSEP\tFVE\tFVEP\tUE\tUR\tURN\tURN2\tURSD\n",
      "\n",
      "1|0|0|0|0|4|5|3||60\t3.4199\t60\t59\t12\t3\t0\t0\t3.1925\t3.1901\t0.4389\t0.4393\t0.2269\t0.0005\t0.0306\t1.8384\t0\n",
      "\n",
      "\n",
      "16.701  seconds elapsed\n"
     ]
    }
   ],
   "source": [
    "tree_60 = elpigraph.computeElasticPrincipalTree(X_data, 60)[0]"
   ]
  },
  {
   "cell_type": "code",
   "execution_count": 1216,
   "metadata": {},
   "outputs": [
    {
     "data": {
      "image/png": "[encoded data removed]",
      "text/plain": [
       "<Figure size 1080x720 with 2 Axes>"
      ]
     },
     "metadata": {
      "needs_background": "light"
     },
     "output_type": "display_data"
    }
   ],
   "source": [
    "plt = ColoredPlotPG(X_data, tree_60, X_color=y_data, X_cmap=\"winter\")\n",
    "plt.show()"
   ]
  },
  {
   "cell_type": "markdown",
   "metadata": {},
   "source": [
    "Исследуем рисунок полученный из библиотеки Elpigraph. Если говорить о ходе работе этой библиотеки, то elpigraph работает в n-мерном пространстве, где n - кол-во признаков.  \n",
    "Библиотека строит в n-мерном пространстве ребра, соединенные друг с другом в дерево так, чтобы вокруг ребер лежало достаточное количество точек из исходного набора данных. Результатом работы является проекция этого дерева на двумерную плоскость.\n",
    "Если говорить о нашем случае, то видно, что данные разбились на некоторые касты, где в каждой касте присутстуют \n",
    "значения нашего предсказываего столбца y. Так как данные изначально были не сбалансированы, положительных значений (что гражданин окажется иностранцем),\n",
    "помеченных зеленым цветом(1) гораздо больше, чем отрицательных значений (что гражданин окажется не иностранцем), помеченных синим цветом(0).  \n",
    "Но, к сожалению, по данному рисунку сложно оценить корреляцию результируещего столбца от других признаков (так как и зеленые, и синие метки достаточно хаотично распологаются по имеющимся кастам). Но стоит отметить, что такая ситуация нормальна в некоторых ситуациях, так как в общем случае elpigraph был все-таки создан для обучения без учителя.\n"
   ]
  },
  {
   "cell_type": "markdown",
   "metadata": {},
   "source": [
    "# Выводы:"
   ]
  },
  {
   "cell_type": "markdown",
   "metadata": {},
   "source": [
    "Проведя вышепроделанную работу, можно сказать, что задача классификации освоена. Во время написания задачи были усвоены такие вещи как: Визуализация данных, подготовка данных к алгоритмам МО, а также были разобраны и применены некоторые базовые методы обучения. Стоит отметить, что была применена библиотека elpigraph для более глубокого понимания наших данных. "
   ]
  },
  {
   "cell_type": "markdown",
   "metadata": {},
   "source": [
    "# Источники информации"
   ]
  },
  {
   "cell_type": "markdown",
   "metadata": {},
   "source": [
    "    Литература: \n",
    "    1)Beginning Programming with Python® bу john Paul Mueller\n",
    "    2)Hands-On Machine Learning with Scikit-Learn and TensorFlow by Aurelien Geron\n",
    "    Интернет-ресурсы:\n",
    "    1)https://scikit-learn.org/stable/\n",
    "    2)https://github.com/ageron/handson-ml\n",
    "    3)https://tproger.ru/translations/scikit-learn-in-python/"
   ]
  }
 ],
 "metadata": {
  "kernelspec": {
   "display_name": "Python 3",
   "language": "python",
   "name": "python3"
  },
  "language_info": {
   "codemirror_mode": {
    "name": "ipython",
    "version": 3
   },
   "file_extension": ".py",
   "mimetype": "text/x-python",
   "name": "python",
   "nbconvert_exporter": "python",
   "pygments_lexer": "ipython3",
   "version": "3.8.3"
  }
 },
 "nbformat": 4,
 "nbformat_minor": 4
}
